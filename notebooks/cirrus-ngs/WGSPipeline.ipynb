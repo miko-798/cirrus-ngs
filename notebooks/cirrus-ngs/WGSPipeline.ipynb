{
 "cells": [
  {
   "cell_type": "markdown",
   "metadata": {},
   "source": [
    "# WGSPipeline \n",
    "    ## Refactored"
   ]
  },
  {
   "cell_type": "code",
   "execution_count": 1,
   "metadata": {},
   "outputs": [
    {
     "name": "stdout",
     "output_type": "stream",
     "text": [
      "variables set\n"
     ]
    }
   ],
   "source": [
    "import os\n",
    "import sys\n",
    "\n",
    "s3_input_files_address = \"s3://ucsd-ccbb-interns/Mustafa/wgs_test/exome_sample1\"\n",
    "s3_output_files_address = \"s3://ucsd-ccbb-interns/Mustafa/wgs_test/exome_sample1/workflows_added\"\n",
    "\n",
    "## CFNCluster name\n",
    "your_cluster_name = \"mustafa5\"\n",
    "\n",
    "## The private key pair for accessing cluster.\n",
    "private_key = \"/home/mustafa/interns_oregon_key.pem\"\n",
    "\n",
    "## Project information\n",
    "project_name = \"mus_test_proj\"\n",
    "\n",
    "#bwa_gatk or bwa_mutect\n",
    "workflow = \"bwa_gatk\"\n",
    "\n",
    "genome = \"hg19\"\n",
    "\n",
    "style = \"NA\"\n",
    "\n",
    "## Technology used to produce reads\n",
    "## Values must be: CAPILLARY, LS454, ILLUMINA, SOLID, HELICOS, IONTORRENT, ONT, or PACBIO\n",
    "platform_technology = \"ILLUMINA\"\n",
    "\n",
    "\n",
    "## If delete cfncluster after job is done.\n",
    "delete_cfncluster= False\n",
    "\n",
    "print(\"variables set\")"
   ]
  },
  {
   "cell_type": "code",
   "execution_count": 2,
   "metadata": {
    "scrolled": true
   },
   "outputs": [
    {
     "name": "stdout",
     "output_type": "stream",
     "text": [
      "cluster mustafa5 does exist.\n",
      "\n",
      "Status: CREATE_COMPLETE\n",
      "Status: CREATE_COMPLETE\n",
      "MasterServer: RUNNING\n",
      "MasterServer: RUNNING\n",
      "Output:\"MasterPublicIP\"=\"52.43.127.225\"\n",
      "Output:\"MasterPrivateIP\"=\"172.31.27.132\"\n",
      "Output:\"GangliaPublicURL\"=\"http://52.43.127.225/ganglia/\"\n",
      "Output:\"GangliaPrivateURL\"=\"http://172.31.27.132/ganglia/\"\n",
      "\n",
      "connecting\n",
      "connected\n"
     ]
    }
   ],
   "source": [
    "sys.path.append(\"../../src/cirrus_ngs\")\n",
    "from cfnCluster import CFNClusterManager, ConnectionManager\n",
    "\n",
    "## Create a new cluster\n",
    "master_ip_address = CFNClusterManager.create_cfn_cluster(cluster_name=your_cluster_name)\n",
    "ssh_client = ConnectionManager.connect_master(hostname=master_ip_address,\n",
    "               username=\"ec2-user\",\n",
    "               private_key_file=private_key)"
   ]
  },
  {
   "cell_type": "code",
   "execution_count": 3,
   "metadata": {},
   "outputs": [
    {
     "name": "stdout",
     "output_type": "stream",
     "text": [
      "[['exome_sample1_R1.fq.gz', 'exome_sample1_R1.fq.gz'], ['exome_sample2_R1.fq.gz', 'exome_sample2_R2.fq.gz']]\n",
      "['groupA', 'groupA']\n",
      "{'exome_sample1_R1': 'exome_sample2_R1'}\n",
      "making the yaml file...\n",
      "copying yaml file to remote master node...\n",
      "mus_test_proj.yaml\n",
      "/shared/workspace/Pipelines/yaml_files/DNASeq\n",
      "executing pipeline...\n",
      "Executing qsub -V -o /dev/null -e /dev/null /shared/workspace/Pipelines/scripts/run.sh /shared/workspace/Pipelines/yaml_files/DNASeq/mus_test_proj.yaml /shared/workspace/logs/DNASeq/bwa_gatk/mus_test_proj DNASeq_bwa_gatk\n"
     ]
    }
   ],
   "source": [
    "from util import PipelineManager\n",
    "from util import DesignFileLoader\n",
    "\n",
    "##can be fastqc, notrim, bwa\n",
    "analysis_steps = {\n",
    "                    \"fastqc\"\n",
    "                    #,\"trim\"\n",
    "                    #,\"bwa\"\n",
    "                    #,\"sort\"\n",
    "                    #,\"dedup\"\n",
    "                    #,\"split\"\n",
    "                    #,\"postalignment\"\n",
    "                    #,\"haplotype\"\n",
    "                    #\"mutect\"\n",
    "                    #\"merge\" \n",
    "                    #\"bam_merge\"\n",
    "                    #\"pair_vcf_merge\"\n",
    "                    #,\"combine_vcf\"\n",
    "                    #\"filter\"\n",
    "                }\n",
    "\n",
    "design_file = \"/home/mustafa/ccbb/cirrus-ngs/data/cirrus-ngs/wgs_actual_sample_test.txt\"\n",
    "\n",
    "\n",
    "sample_list, group_list, pairs_list = DesignFileLoader.load_design_file(design_file)\n",
    "\n",
    "PipelineManager.execute(\"DNASeq\", ssh_client, project_name, workflow, analysis_steps, s3_input_files_address,\n",
    "                       sample_list, group_list, s3_output_files_address, genome, style, pairs_list)"
   ]
  },
  {
   "cell_type": "code",
   "execution_count": 21,
   "metadata": {},
   "outputs": [
    {
     "name": "stdout",
     "output_type": "stream",
     "text": [
      "checking status of jobs...\n",
      "Executing qstat\n",
      "Executing ls /shared/workspace/logs/DNASeq/mus_test_proj\n",
      "There are 0 jobs currently running.\n",
      "There are 0 jobs currently queued.\n",
      "Your \"fastqc\" job has not started yet.\n"
     ]
    }
   ],
   "source": [
    "#name of the job you want to check the status of \n",
    "job_name = \"fastqc\"\n",
    "\n",
    "PipelineManager.check_status(ssh_client, job_name)"
   ]
  },
  {
   "cell_type": "raw",
   "metadata": {
    "collapsed": true
   },
   "source": []
  },
  {
   "cell_type": "code",
   "execution_count": null,
   "metadata": {
    "collapsed": true
   },
   "outputs": [],
   "source": []
  }
 ],
 "metadata": {
  "kernelspec": {
   "display_name": "Python 3",
   "language": "python",
   "name": "python3"
  },
  "language_info": {
   "codemirror_mode": {
    "name": "ipython",
    "version": 3
   },
   "file_extension": ".py",
   "mimetype": "text/x-python",
   "name": "python",
   "nbconvert_exporter": "python",
   "pygments_lexer": "ipython3",
   "version": "3.6.1"
  }
 },
 "nbformat": 4,
 "nbformat_minor": 1
}
