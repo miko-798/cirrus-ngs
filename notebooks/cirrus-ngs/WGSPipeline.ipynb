{
 "cells": [
  {
   "cell_type": "markdown",
   "metadata": {},
   "source": [
    "# WGSPipeline \n",
    "    ## Refactored"
   ]
  },
  {
   "cell_type": "code",
   "execution_count": 1,
   "metadata": {
    "collapsed": true
   },
   "outputs": [],
   "source": [
    "import os\n",
    "import sys\n",
    "\n",
    "s3_input_files_address = \"s3://ucsd-ccbb-interns/Mustafa/wgs_test/Sample_cDNA\"\n",
    "s3_output_files_address = \"s3://ucsd-ccbb-interns/Mustafa/wgs_test/Sample_cDNA\"\n",
    "\n",
    "## CFNCluster name\n",
    "your_cluster_name = \"mustafa\"\n",
    "\n",
    "## The private key pair for accessing cluster.\n",
    "private_key = \"/home/mustafa/interns_oregon_key.pem\"\n",
    "\n",
    "## Project information\n",
    "project_name = \"test\"\n",
    "\n",
    "## Email if you would like to be emailed about your job status. If you don't want emails, leave blank.\n",
    "email = \"mguler@ucsd.edu\"\n",
    "\n",
    "## If delete cfncluster after job is done.\n",
    "delete_cfncluster= False"
   ]
  },
  {
   "cell_type": "code",
   "execution_count": 2,
   "metadata": {},
   "outputs": [
    {
     "name": "stdout",
     "output_type": "stream",
     "text": [
      "cluster mustafa does exist.\n",
      "\n",
      "Status: CREATE_COMPLETE\n",
      "Status: CREATE_COMPLETE\n",
      "MasterServer: RUNNING\n",
      "MasterServer: RUNNING\n",
      "Output:\"MasterPublicIP\"=\"35.162.87.9\"\n",
      "Output:\"MasterPrivateIP\"=\"172.31.24.174\"\n",
      "Output:\"GangliaPublicURL\"=\"http://35.162.87.9/ganglia/\"\n",
      "Output:\"GangliaPrivateURL\"=\"http://172.31.24.174/ganglia/\"\n",
      "\n",
      "connecting\n",
      "connected\n"
     ]
    }
   ],
   "source": [
    "sys.path.append(\"../../src/cirrus_ngs\")\n",
    "from cfnCluster import CFNClusterManager, ConnectionManager\n",
    "\n",
    "## Create a new cluster\n",
    "master_ip_address = CFNClusterManager.create_cfn_cluster(cluster_name=your_cluster_name)\n",
    "ssh_client = ConnectionManager.connect_master(hostname=master_ip_address,\n",
    "               username=\"ec2-user\",\n",
    "               private_key_file=private_key)"
   ]
  },
  {
   "cell_type": "code",
   "execution_count": 3,
   "metadata": {
    "scrolled": true
   },
   "outputs": [
    {
     "name": "stdout",
     "output_type": "stream",
     "text": [
      "[['Sample_cDNA93_R1.fq.gz', 'Sample_cDNA93_R2.fq.gz']]\n",
      "['groupA']\n",
      "making the yaml file...\n",
      "copying yaml file to remote master node...\n",
      "test.yaml\n",
      "/shared/workspace/WGSPipeline/yaml_examples\n",
      "executing pipeline...\n",
      "Executing qsub /shared/workspace/WGSPipeline/run.sh /shared/workspace/WGSPipeline/yaml_examples/test.yaml\n"
     ]
    }
   ],
   "source": [
    "from dnaSeq import WGSPipelineManager\n",
    "from util import DesignFileLoader\n",
    "\n",
    "analysis_steps = [\"fastqc\"]\n",
    "\n",
    "design_file = \"/home/mustafa/ccbb/cirrus-ngs/data/cirrus-ngs/dnaseq_design_example.txt\"\n",
    "sample_list, group_list = DesignFileLoader.load_design_file(design_file)\n",
    "\n",
    "WGSPipelineManager.execute(ssh_client, project_name, analysis_steps, s3_input_files_address,\n",
    "                       sample_list, group_list, s3_output_files_address, email)"
   ]
  },
  {
   "cell_type": "code",
   "execution_count": 11,
   "metadata": {
    "scrolled": true
   },
   "outputs": [
    {
     "name": "stdout",
     "output_type": "stream",
     "text": [
      "checking processing status\n",
      "Executing qstat\n",
      "Executing qstat -j 574\n",
      "Executing ls /shared/workspace/data_archive/DNASeq/test/logs/\n",
      "\n",
      "The status of your \"download\" job:\n",
      "There are 0 jobs currently running.\n",
      "There are 0 jobs currently queued.\n",
      "Your \"download\" job has finished!\n"
     ]
    }
   ],
   "source": [
    "#name of the job you want to check the status of \n",
    "job_name = \"download\"\n",
    "\n",
    "WGSPipelineManager.check_status(ssh_client, job_name)"
   ]
  },
  {
   "cell_type": "code",
   "execution_count": null,
   "metadata": {
    "collapsed": true
   },
   "outputs": [],
   "source": []
  },
  {
   "cell_type": "code",
   "execution_count": null,
   "metadata": {
    "collapsed": true
   },
   "outputs": [],
   "source": []
  }
 ],
 "metadata": {
  "kernelspec": {
   "display_name": "Python 3",
   "language": "python",
   "name": "python3"
  },
  "language_info": {
   "codemirror_mode": {
    "name": "ipython",
    "version": 3
   },
   "file_extension": ".py",
   "mimetype": "text/x-python",
   "name": "python",
   "nbconvert_exporter": "python",
   "pygments_lexer": "ipython3",
   "version": "3.6.1"
  }
 },
 "nbformat": 4,
 "nbformat_minor": 1
}
