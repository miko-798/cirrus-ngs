{
 "cells": [
  {
   "cell_type": "code",
   "execution_count": null,
   "metadata": {},
   "outputs": [],
   "source": [
    "import os\n",
    "import sys\n",
    "\n",
    "#s3 addresses for input files and output files\n",
    "s3_input_files_address = \"s3://path/to/input\"\n",
    "s3_output_files_address = \"s3://path/to/output\"\n",
    "\n",
    "## CFNCluster name\n",
    "your_cluster_name = \"\"\n",
    "\n",
    "## The private key pair for accessing cluster.\n",
    "private_key = \"/path/to/key.pem\"\n",
    "\n",
    "## Project information\n",
    "project_name = \"\"\n",
    "\n",
    "#options: homer\n",
    "workflow = \"homer\"\n",
    "\n",
    "#options: hg19, mm10\n",
    "genome = \"\"\n",
    "\n",
    "#options: factor, histone\n",
    "style = \"\"\n",
    "\n",
    "## If delete cfncluster after job is done.\n",
    "delete_cfncluster= False\n",
    "\n",
    "print(\"variables set\")"
   ]
  },
  {
   "cell_type": "code",
   "execution_count": null,
   "metadata": {},
   "outputs": [],
   "source": [
    "sys.path.append(\"../../src/cirrus_ngs\")\n",
    "from cfnCluster import CFNClusterManager, ConnectionManager\n",
    "\n",
    "## Create a new cluster\n",
    "master_ip_address = CFNClusterManager.create_cfn_cluster(cluster_name=your_cluster_name)\n",
    "ssh_client = ConnectionManager.connect_master(hostname=master_ip_address,\n",
    "               username=\"ec2-user\",\n",
    "               private_key_file=private_key)"
   ]
  },
  {
   "cell_type": "code",
   "execution_count": null,
   "metadata": {},
   "outputs": [],
   "source": [
    "from util import PipelineManager\n",
    "from util import DesignFileLoader\n",
    "\n",
    "##order does not matter\n",
    "\n",
    "##can be fastqc, trim, bowtie, multiqc, make_tag_directory, make_UCSC_file, \n",
    "#find_peaks, annotate_peaks, pos2bed, find_motifs_genome\n",
    "analysis_steps = {\n",
    "                    #\"fastqc\"\n",
    "                    #,\"trim\"\n",
    "                    #,\"bowtie\"\n",
    "                    #,\"multiqc\"\n",
    "                    #,\"make_tag_directory\"\n",
    "                    #,\"make_UCSC_file\"\n",
    "                    #,\"find_peaks\"\n",
    "                    #\"annotate_peaks\"\n",
    "                    #,\"pos2bed\"\n",
    "                    #,\"find_motifs_genome\"\n",
    "                }\n",
    "\n",
    "#path to chipseq design file\n",
    "#examples in cirrus_root/data/cirrus-ngs/\n",
    "design_file = \"/path/to/design_file.txt\"\n",
    "\n",
    "sample_list, group_list, pairs_list = DesignFileLoader.load_design_file(design_file)\n",
    "\n",
    "PipelineManager.execute(\"ChiPSeq\", ssh_client, project_name, workflow, analysis_steps, s3_input_files_address,\n",
    "                       sample_list, group_list, s3_output_files_address, genome, style, pairs_list)"
   ]
  }
 ],
 "metadata": {
  "kernelspec": {
   "display_name": "Python 3",
   "language": "python",
   "name": "python3"
  },
  "language_info": {
   "codemirror_mode": {
    "name": "ipython",
    "version": 3
   },
   "file_extension": ".py",
   "mimetype": "text/x-python",
   "name": "python",
   "nbconvert_exporter": "python",
   "pygments_lexer": "ipython3",
   "version": "3.6.1"
  }
 },
 "nbformat": 4,
 "nbformat_minor": 2
}
