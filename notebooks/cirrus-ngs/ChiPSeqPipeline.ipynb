{
 "cells": [
  {
   "cell_type": "code",
   "execution_count": 4,
   "metadata": {},
   "outputs": [
    {
     "name": "stdout",
     "output_type": "stream",
     "text": [
      "variables set\n"
     ]
    }
   ],
   "source": [
    "import os\n",
    "import sys\n",
    "sys.path.append(\"../../src/cirrus_ngs\")\n",
    "from cfnCluster import CFNClusterManager, ConnectionManager\n",
    "from util import PipelineManager\n",
    "from util import DesignFileLoader\n",
    "\n",
    "#s3 addresses for input files and output files\n",
    "s3_input_files_address = \"s3://ucsd-ccbb-interns/Mustafa/chip_test/\"\n",
    "s3_output_files_address = \"s3://ucsd-ccbb-interns/Mustafa/chip_test/\"\n",
    "\n",
    "## CFNCluster name\n",
    "your_cluster_name = \"mustafa7\"\n",
    "\n",
    "## The private key pair for accessing cluster.\n",
    "private_key = \"/home/mustafa/keys/interns_oregon_key.pem\"\n",
    "\n",
    "## Project information\n",
    "project_name = \"histone_output_check\"\n",
    "\n",
    "#options: homer\n",
    "workflow = \"homer\"\n",
    "\n",
    "#options: hg19, mm10\n",
    "genome = \"hg19\"\n",
    "\n",
    "#options: factor, histone\n",
    "style = \"histone\"\n",
    "\n",
    "## If delete cfncluster after job is done.\n",
    "delete_cfncluster= False\n",
    "\n",
    "\n",
    "##order does not matter\n",
    "\n",
    "##can be fastqc, trim, bowtie, multiqc, make_tag_directory, make_UCSC_file, \n",
    "#find_peaks, annotate_peaks, pos2bed, find_motifs_genome\n",
    "analysis_steps = {\n",
    "                    \"fastqc\"\n",
    "                    ,\"trim\"\n",
    "                    ,\"bowtie\"\n",
    "#                     ,\"multiqc\"\n",
    "                    ,\"make_tag_directory\"\n",
    "                    ,\"make_UCSC_file\"\n",
    "                    ,\"find_peaks\"\n",
    "                    ,\"annotate_peaks\"\n",
    "                    ,\"pos2bed\"\n",
    "                    ,\"find_motifs_genome\"\n",
    "                }\n",
    "\n",
    "#path to chipseq design file\n",
    "#examples in cirrus_root/data/cirrus-ngs/\n",
    "design_file = \"/home/mustafa/ccbb/cirrus-ngs/data/cirrus-ngs/testing_chip.txt\"\n",
    "\n",
    "print(\"variables set\")"
   ]
  },
  {
   "cell_type": "code",
   "execution_count": 5,
   "metadata": {},
   "outputs": [
    {
     "name": "stdout",
     "output_type": "stream",
     "text": [
      "cluster mustafa7 does exist.\n",
      "warning: There is a newer version 1.4.1 of cfncluster available.\n",
      "Status: CREATE_COMPLETE\n",
      "Status: CREATE_COMPLETE\n",
      "MasterServer: RUNNING\n",
      "MasterServer: RUNNING\n",
      "Output:\"MasterPublicIP\"=\"34.214.180.149\"\n",
      "Output:\"MasterPrivateIP\"=\"172.31.33.31\"\n",
      "Output:\"GangliaPublicURL\"=\"http://34.214.180.149/ganglia/\"\n",
      "Output:\"GangliaPrivateURL\"=\"http://172.31.33.31/ganglia/\"\n",
      "\n",
      "connecting\n",
      "connected\n"
     ]
    }
   ],
   "source": [
    "## Create a new cluster\n",
    "master_ip_address = CFNClusterManager.create_cfn_cluster(cluster_name=your_cluster_name)\n",
    "ssh_client = ConnectionManager.connect_master(hostname=master_ip_address,\n",
    "               username=\"ec2-user\",\n",
    "               private_key_file=private_key)"
   ]
  },
  {
   "cell_type": "code",
   "execution_count": 6,
   "metadata": {},
   "outputs": [
    {
     "name": "stdout",
     "output_type": "stream",
     "text": [
      "[['chipseq_sample1_chip.fastq.gz'], ['chipseq_sample1_input.fastq.gz'], ['chipseq_sample2_chip.fastq.gz'], ['chipseq_sample2_input.fastq.gz']]\n",
      "['groupA', 'groupA', 'groupB', 'groupB']\n",
      "{'chipseq_sample1_chip': 'chipseq_sample1_input', 'chipseq_sample2_chip': 'chipseq_sample2_input'}\n",
      "making the yaml file...\n",
      "copying yaml file to remote master node...\n",
      "histone_output_check.yaml\n",
      "/shared/workspace/Pipelines/yaml_files/ChiPSeq/homer\n",
      "executing pipeline...\n",
      "Executing nohup bash /shared/workspace/Pipelines/scripts/run.sh /shared/workspace/Pipelines/yaml_files/ChiPSeq/homer/histone_output_check.yaml /shared/workspace/logs/ChiPSeq/homer/histone_output_check ChiPSeq_homer\n"
     ]
    }
   ],
   "source": [
    "sample_list, group_list, pairs_list = DesignFileLoader.load_design_file(design_file)\n",
    "\n",
    "PipelineManager.execute(\"ChiPSeq\", ssh_client, project_name, workflow, analysis_steps, s3_input_files_address,\n",
    "                       sample_list, group_list, s3_output_files_address, genome, style, pairs_list)"
   ]
  },
  {
   "cell_type": "code",
   "execution_count": null,
   "metadata": {
    "collapsed": true
   },
   "outputs": [],
   "source": [
    "step = \"all\" #can be any step in analysis_steps or \"all\"\n",
    "PipelineManager.check_status(ssh_client, step, \"ChiPSeq\", workflow, project_name, analysis_steps,verbose=True)"
   ]
  }
 ],
 "metadata": {
  "kernelspec": {
   "display_name": "Python 3",
   "language": "python",
   "name": "python3"
  },
  "language_info": {
   "codemirror_mode": {
    "name": "ipython",
    "version": 3
   },
   "file_extension": ".py",
   "mimetype": "text/x-python",
   "name": "python",
   "nbconvert_exporter": "python",
   "pygments_lexer": "ipython3",
   "version": "3.6.1"
  }
 },
 "nbformat": 4,
 "nbformat_minor": 2
}
