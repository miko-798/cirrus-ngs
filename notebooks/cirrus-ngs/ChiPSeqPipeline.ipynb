{
 "cells": [
  {
   "cell_type": "code",
   "execution_count": 4,
   "metadata": {},
   "outputs": [
    {
     "name": "stdout",
     "output_type": "stream",
     "text": [
      "variables set\n"
     ]
    }
   ],
   "source": [
    "import os\n",
    "import sys\n",
    "\n",
    "s3_input_files_address = \"s3://ucsd-ccbb-interns/Mustafa/chip_test\"\n",
    "s3_output_files_address = \"s3://ucsd-ccbb-interns/Mustafa/chip_test/histone_no_pairs\"\n",
    "\n",
    "## CFNCluster name\n",
    "your_cluster_name = \"mustafa5\"\n",
    "\n",
    "## The private key pair for accessing cluster.\n",
    "private_key = \"/home/mustafa/interns_oregon_key.pem\"\n",
    "\n",
    "## Project information\n",
    "project_name = \"mus_test_proj\"\n",
    "\n",
    "#homer\n",
    "workflow = \"homer\"\n",
    "\n",
    "genome = \"hg19\"\n",
    "\n",
    "style = \"histone\"\n",
    "\n",
    "## If delete cfncluster after job is done.\n",
    "delete_cfncluster= False\n",
    "\n",
    "print(\"variables set\")"
   ]
  },
  {
   "cell_type": "code",
   "execution_count": 5,
   "metadata": {},
   "outputs": [
    {
     "name": "stdout",
     "output_type": "stream",
     "text": [
      "cluster mustafa5 does exist.\n",
      "\n",
      "Status: CREATE_COMPLETE\n",
      "Status: CREATE_COMPLETE\n",
      "MasterServer: RUNNING\n",
      "MasterServer: RUNNING\n",
      "Output:\"MasterPublicIP\"=\"52.43.127.225\"\n",
      "Output:\"MasterPrivateIP\"=\"172.31.27.132\"\n",
      "Output:\"GangliaPublicURL\"=\"http://52.43.127.225/ganglia/\"\n",
      "Output:\"GangliaPrivateURL\"=\"http://172.31.27.132/ganglia/\"\n",
      "\n",
      "connecting\n",
      "connected\n"
     ]
    }
   ],
   "source": [
    "sys.path.append(\"../../src/cirrus_ngs\")\n",
    "from cfnCluster import CFNClusterManager, ConnectionManager\n",
    "\n",
    "## Create a new cluster\n",
    "master_ip_address = CFNClusterManager.create_cfn_cluster(cluster_name=your_cluster_name)\n",
    "ssh_client = ConnectionManager.connect_master(hostname=master_ip_address,\n",
    "               username=\"ec2-user\",\n",
    "               private_key_file=private_key)"
   ]
  },
  {
   "cell_type": "code",
   "execution_count": 6,
   "metadata": {},
   "outputs": [
    {
     "name": "stdout",
     "output_type": "stream",
     "text": [
      "[['chipseq_sample1_chip.fastq.gz'], ['chipseq_sample1_input.fastq.gz'], ['chipseq_sample2_chip.fastq.gz'], ['chipseq_sample2_input.fastq.gz']]\n",
      "['groupA', 'groupA', 'groupB', 'groupB']\n",
      "{}\n",
      "making the yaml file...\n",
      "copying yaml file to remote master node...\n",
      "mus_test_proj.yaml\n",
      "/shared/workspace/Pipelines/yaml_files/ChipSeq\n",
      "executing pipeline...\n",
      "Executing qsub -V -o /dev/null -e /dev/null /shared/workspace/Pipelines/scripts/run.sh /shared/workspace/Pipelines/yaml_files/ChipSeq/mus_test_proj.yaml /shared/workspace/logs/ChipSeq/mus_test_proj ChipSeq\n"
     ]
    }
   ],
   "source": [
    "from util import PipelineManager\n",
    "from util import DesignFileLoader\n",
    "\n",
    "##can be fastqc, notrim, bwa\n",
    "analysis_steps = {\n",
    "                    \"fastqc\"\n",
    "                    ,\"bowtie\"\n",
    "                    ,\"make_tag_directory\"\n",
    "                    ,\"make_UCSC_file\"\n",
    "                    ,\"find_peaks\"\n",
    "                    ,\"annotate_peaks\"\n",
    "                    ,\"pos2bed\"\n",
    "                    ,\"find_motifs_genome\"\n",
    "                }\n",
    "\n",
    "design_file = \"/home/mustafa/ccbb/cirrus-ngs/data/cirrus-ngs/testing_chip_no_pairs.txt\"\n",
    "\n",
    "\n",
    "sample_list, group_list, pairs_list = DesignFileLoader.load_design_file(design_file)\n",
    "\n",
    "PipelineManager.execute(\"ChiPSeq\", ssh_client, project_name, analysis_steps, s3_input_files_address,\n",
    "                       sample_list, group_list, s3_output_files_address, genome, style, pairs_list, workflow)"
   ]
  },
  {
   "cell_type": "code",
   "execution_count": null,
   "metadata": {
    "collapsed": true
   },
   "outputs": [],
   "source": []
  },
  {
   "cell_type": "code",
   "execution_count": null,
   "metadata": {
    "collapsed": true
   },
   "outputs": [],
   "source": []
  }
 ],
 "metadata": {
  "kernelspec": {
   "display_name": "Python 3",
   "language": "python",
   "name": "python3"
  },
  "language_info": {
   "codemirror_mode": {
    "name": "ipython",
    "version": 3
   },
   "file_extension": ".py",
   "mimetype": "text/x-python",
   "name": "python",
   "nbconvert_exporter": "python",
   "pygments_lexer": "ipython3",
   "version": "3.6.1"
  }
 },
 "nbformat": 4,
 "nbformat_minor": 2
}
