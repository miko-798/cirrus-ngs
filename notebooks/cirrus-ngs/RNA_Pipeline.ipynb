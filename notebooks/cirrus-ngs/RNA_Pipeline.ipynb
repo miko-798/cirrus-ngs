{
 "cells": [
  {
   "cell_type": "markdown",
   "metadata": {},
   "source": [
    "# RNA-seq Pipeline"
   ]
  },
  {
   "cell_type": "markdown",
   "metadata": {},
   "source": [
    "Notice: Please open the notebook under /notebooks/awsCluster/BasicCFNClusterSetup.ipynb to install CFNCluster package on your Jupyter-notebook server before running the notebook."
   ]
  },
  {
   "cell_type": "markdown",
   "metadata": {},
   "source": [
    "## 1. Configure AWS key pair, data location on S3 and the project information"
   ]
  },
  {
   "cell_type": "code",
   "execution_count": 1,
   "metadata": {},
   "outputs": [
    {
     "name": "stdout",
     "output_type": "stream",
     "text": [
      "Variables set.\n"
     ]
    }
   ],
   "source": [
    "import os\n",
    "import sys\n",
    "sys.path.append(\"../../src/cirrus_ngs\")\n",
    "from cfnCluster import CFNClusterManager, ConnectionManager\n",
    "from util import PipelineManager\n",
    "from util import DesignFileLoader\n",
    "\n",
    "## S3 input and output addresses.\n",
    "# Notice: DO NOT put a forward slash at the end of your addresses.\n",
    "# s3_input_files_address = \"s3://ucsd-ccbb-interns/Mengyi/rna_test/rna_vc\"\n",
    "s3_input_files_address = \"s3://ucsd-ccbb-interns/Mustafa/rna_test\"\n",
    "s3_output_files_address = \"s3://ucsd-ccbb-interns/Mustafa/rna_test\"\n",
    "\n",
    "## Path to the design file\n",
    "design_file = \"../../data/cirrus-ngs/rna_short_design.txt\"\n",
    "\n",
    "## CFNCluster name\n",
    "your_cluster_name = \"mustafa8\"\n",
    "\n",
    "## The private key pair for accessing cluster.\n",
    "private_key = \"/home/mustafa/keys/interns_oregon_key.pem\"\n",
    "\n",
    "## Project information\n",
    "# Recommended: Specify year, month, date, user name and pipeline name (no empty spaces)\n",
    "project_name = \"new_index_test\"\n",
    "\n",
    "## Choose from one of the workflows: \"star_gatk\", \"star_htseq\", \"star_rsem\"\n",
    "workflow = \"kallisto\"\n",
    "\n",
    "## Genome information: currently available genomes: hg19, mm10 (mm10 only supported in star_rsem as of now)\n",
    "genome = \"hg19\"\n",
    "\n",
    "## Analysis steps:\n",
    "# for star_gatk: \"fastqc\", \"trim\", \"align\", \"multiqc\", \"variant_calling\"\n",
    "# for star_htseq: \"fastqc\", \"trim\", \"align\", \"multiqc\", \"count\", \"merge_counts\"\n",
    "# for star_rsem: \"fastqc\", \"trim\", \"calculate_expression\", \"multiqc\", \"merge_counts\"\n",
    "# for kallisto: \"fastqc\", \"trim\", \"align\", \"multiqc\", \"count\", \"merge_counts\"\n",
    "\n",
    "\n",
    "# analysis_steps = {\"make_group\",\"fastqc\", \"trim\", \"align\",\"count\", \"merge\"}\n",
    "analysis_steps = {\"multiqc\",\"count\", \"merge_counts\"}\n",
    "# analysis_steps = {workflow + \"_\" + x for x in analysis_steps}\n",
    "\n",
    "\n",
    "## If delete cfncluster after job is done.\n",
    "delete_cfncluster = False\n",
    "\n",
    "print (\"Variables set.\")"
   ]
  },
  {
   "cell_type": "markdown",
   "metadata": {},
   "source": [
    "## 2. Create CFNCluster"
   ]
  },
  {
   "cell_type": "markdown",
   "metadata": {},
   "source": [
    "Notice: The CFNCluster package can be only installed on Linux box which supports pip installation."
   ]
  },
  {
   "cell_type": "code",
   "execution_count": 2,
   "metadata": {
    "scrolled": false
   },
   "outputs": [
    {
     "name": "stdout",
     "output_type": "stream",
     "text": [
      "cluster mustafa8 does exist.\n",
      "warning: There is a newer version 1.4.2 of cfncluster available.\n",
      "Status: CREATE_COMPLETE\n",
      "Status: CREATE_COMPLETE\n",
      "MasterServer: RUNNING\n",
      "MasterServer: RUNNING\n",
      "Output:\"MasterPublicIP\"=\"34.218.52.146\"\n",
      "Output:\"MasterPrivateIP\"=\"172.31.47.153\"\n",
      "Output:\"GangliaPublicURL\"=\"http://34.218.52.146/ganglia/\"\n",
      "Output:\"GangliaPrivateURL\"=\"http://172.31.47.153/ganglia/\"\n",
      "\n",
      "connecting\n",
      "connected\n"
     ]
    }
   ],
   "source": [
    "## Create a new cluster\n",
    "master_ip_address = CFNClusterManager.create_cfn_cluster(cluster_name=your_cluster_name)\n",
    "ssh_client = ConnectionManager.connect_master(hostname=master_ip_address,\n",
    "                                              username=\"ec2-user\",\n",
    "                                              private_key_file=private_key)"
   ]
  },
  {
   "cell_type": "markdown",
   "metadata": {},
   "source": [
    "## 3. Run the RNA sequencing pipeline"
   ]
  },
  {
   "cell_type": "code",
   "execution_count": 3,
   "metadata": {
    "scrolled": false
   },
   "outputs": [
    {
     "name": "stdout",
     "output_type": "stream",
     "text": [
      "{'count', 'multiqc', 'merge_counts'}\n",
      "[['638-BM-Stem_S1_R1_001_head.fastq', '638-BM-Stem_S1_R2_001_head.fastq'], ['689-BM-Stem_S0_R1_001_head.fastq', '689-BM-Stem_S0_R2_001_head.fastq']]\n",
      "['groupA', 'groupB']\n",
      "{}\n",
      "making the yaml file...\n",
      "copying yaml file to remote master node...\n",
      "new_index_test.yaml\n",
      "/shared/workspace/Pipelines/yaml_files/RNASeq/kallisto\n",
      "executing pipeline...\n"
     ]
    }
   ],
   "source": [
    "## DO NOT EDIT BELOW\n",
    "print (analysis_steps)\n",
    "\n",
    "sample_list, group_list, pair_list = DesignFileLoader.load_design_file(design_file)\n",
    "\n",
    "PipelineManager.execute(\"RNASeq\", ssh_client, project_name, workflow, analysis_steps, s3_input_files_address,\n",
    "                        sample_list, group_list, s3_output_files_address, genome, \"NA\", pair_list)"
   ]
  },
  {
   "cell_type": "markdown",
   "metadata": {},
   "source": [
    "## 4. Check status of pipeline"
   ]
  },
  {
   "cell_type": "code",
   "execution_count": 7,
   "metadata": {},
   "outputs": [
    {
     "name": "stdout",
     "output_type": "stream",
     "text": [
      "checking status of jobs...\n",
      "\n",
      "Your project will go through the following steps:\n",
      "\tmultiqc, count, merge_counts\n",
      "\n",
      "The multiqc step calls the multiqc.sh script on the cluster\n",
      "The multiqc step has finished running without failure\n",
      "\n",
      "The count step calls the k_count.sh script on the cluster\n",
      "The count step has finished running without failure\n",
      "\n",
      "The merge_counts step calls the RNA_merge_counts.sh script on the cluster\n",
      "The merge_counts step has finished running without failure\n",
      "\n",
      "\n",
      "Your pipeline has finished\n",
      "\n"
     ]
    }
   ],
   "source": [
    "step=\"all\"\n",
    "PipelineManager.check_status(ssh_client, step, \"RNASeq\", workflow, project_name, analysis_steps,verbose=True)"
   ]
  },
  {
   "cell_type": "markdown",
   "metadata": {},
   "source": [
    "If your pipeline is finished run this cell just in case there's some processes still running.\n",
    "This is only relevant if you plan on running another pipeline on the same cluster right afterwards."
   ]
  },
  {
   "cell_type": "code",
   "execution_count": 8,
   "metadata": {},
   "outputs": [],
   "source": [
    "PipelineManager.stop_pipeline(ssh_client)"
   ]
  },
  {
   "cell_type": "markdown",
   "metadata": {},
   "source": [
    "## 5. Display MultiQC report"
   ]
  },
  {
   "cell_type": "markdown",
   "metadata": {
    "collapsed": true
   },
   "source": [
    "### Note: Run the cells below after all jobs are done on the cluster."
   ]
  },
  {
   "cell_type": "code",
   "execution_count": 4,
   "metadata": {},
   "outputs": [
    {
     "name": "stdout",
     "output_type": "stream",
     "text": [
      "download: s3://ucsd-ccbb-interns/Mustafa/rna_test/new_index_test/kallisto/multiqc_report.html to ../../data/multiqc_report.html\n"
     ]
    }
   ],
   "source": [
    "# Download the multiqc html file to local\n",
    "notebook_dir = os.getcwd().split(\"notebooks\")[0] + \"data/\"\n",
    "!aws s3 cp $s3_output_files_address/$project_name/$workflow/multiqc_report.html $notebook_dir"
   ]
  },
  {
   "cell_type": "code",
   "execution_count": 5,
   "metadata": {},
   "outputs": [
    {
     "data": {
      "text/html": [
       "\n",
       "        <iframe\n",
       "            width=\"100%\"\n",
       "            height=\"1000\"\n",
       "            src=\"../../data/multiqc_report.html\"\n",
       "            frameborder=\"0\"\n",
       "            allowfullscreen\n",
       "        ></iframe>\n",
       "        "
      ],
      "text/plain": [
       "<IPython.lib.display.IFrame at 0x7fd2be36ccf8>"
      ]
     },
     "execution_count": 5,
     "metadata": {},
     "output_type": "execute_result"
    }
   ],
   "source": [
    "from IPython.display import IFrame\n",
    "\n",
    "IFrame(os.path.relpath(\"{}multiqc_report.html\".format(notebook_dir)), width=\"100%\", height=1000)"
   ]
  },
  {
   "cell_type": "code",
   "execution_count": null,
   "metadata": {
    "collapsed": true
   },
   "outputs": [],
   "source": []
  }
 ],
 "metadata": {
  "kernelspec": {
   "display_name": "Python 3",
   "language": "python",
   "name": "python3"
  },
  "language_info": {
   "codemirror_mode": {
    "name": "ipython",
    "version": 3
   },
   "file_extension": ".py",
   "mimetype": "text/x-python",
   "name": "python",
   "nbconvert_exporter": "python",
   "pygments_lexer": "ipython3",
   "version": "3.6.1"
  }
 },
 "nbformat": 4,
 "nbformat_minor": 2
}
