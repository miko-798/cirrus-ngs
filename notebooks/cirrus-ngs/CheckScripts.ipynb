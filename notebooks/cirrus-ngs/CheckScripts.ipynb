{
 "cells": [
  {
   "cell_type": "markdown",
   "metadata": {},
   "source": [
    "# Check Scripts on Cluster"
   ]
  },
  {
   "cell_type": "markdown",
   "metadata": {},
   "source": [
    "## 1. Configure AWS key pair"
   ]
  },
  {
   "cell_type": "markdown",
   "metadata": {},
   "source": [
    "This cell only contains information that you, the user, should input.\n",
    "\n",
    "#### String Fields\n",
    "\n",
    "**your_cluster_name**: This is the name given to your cluster when it was created using cfncluster. \n",
    "\n",
    "**private_key**: The path to your private key needed to access your cluster."
   ]
  },
  {
   "cell_type": "code",
   "execution_count": 1,
   "metadata": {},
   "outputs": [
    {
     "name": "stdout",
     "output_type": "stream",
     "text": [
      "variables set\n"
     ]
    }
   ],
   "source": [
    "from pprint import pprint\n",
    "import os\n",
    "import sys\n",
    "sys.path.append(\"../../src/cirrus_ngs\")\n",
    "from cfnCluster import CFNClusterManager, ConnectionManager\n",
    "from util import AddonsManager\n",
    "\n",
    "#name of the cluster\n",
    "your_cluster_name = \"mustafa8\"\n",
    "\n",
    "## The private key pair for accessing cluster.\n",
    "private_key = \"/home/mustafa/keys/interns_oregon_key.pem\"\n",
    "\n",
    "## If delete cfncluster after job is done./\n",
    "delete_cfncluster= False\n",
    "\n",
    "print(\"variables set\")"
   ]
  },
  {
   "cell_type": "markdown",
   "metadata": {},
   "source": [
    "## 2. Connect to Cluster"
   ]
  },
  {
   "cell_type": "markdown",
   "metadata": {},
   "source": [
    "Run this before any following cells, it provides the connection to the cluster."
   ]
  },
  {
   "cell_type": "code",
   "execution_count": 2,
   "metadata": {},
   "outputs": [
    {
     "name": "stdout",
     "output_type": "stream",
     "text": [
      "cluster mustafa8 does exist.\n",
      "warning: There is a newer version 1.4.2 of cfncluster available.\n",
      "Status: CREATE_COMPLETE\n",
      "Status: CREATE_COMPLETE\n",
      "MasterServer: RUNNING\n",
      "MasterServer: RUNNING\n",
      "Output:\"MasterPublicIP\"=\"34.218.52.146\"\n",
      "Output:\"MasterPrivateIP\"=\"172.31.47.153\"\n",
      "Output:\"GangliaPublicURL\"=\"http://34.218.52.146/ganglia/\"\n",
      "Output:\"GangliaPrivateURL\"=\"http://172.31.47.153/ganglia/\"\n",
      "\n",
      "connecting\n",
      "connected\n"
     ]
    }
   ],
   "source": [
    "master_ip_address = CFNClusterManager.create_cfn_cluster(cluster_name=your_cluster_name)\n",
    "ssh_client = ConnectionManager.connect_master(hostname=master_ip_address,\n",
    "               username=\"ec2-user\",\n",
    "               private_key_file=private_key)"
   ]
  },
  {
   "cell_type": "markdown",
   "metadata": {},
   "source": [
    "## 3. Get the Supported Pipelines"
   ]
  },
  {
   "cell_type": "markdown",
   "metadata": {},
   "source": [
    "### Note: this cell must be run before any following cells"
   ]
  },
  {
   "cell_type": "code",
   "execution_count": 3,
   "metadata": {},
   "outputs": [
    {
     "name": "stdout",
     "output_type": "stream",
     "text": [
      "\n",
      "Supported Pipelines: ['RNASeq', 'DNASeq', 'ChiPSeq', 'SmallRNASeq']\n"
     ]
    }
   ],
   "source": [
    "#This cell must be run before others in this section\n",
    "\n",
    "scripts = AddonsManager.get_scripts_dict(ssh_client)\n",
    "print()\n",
    "print(\"Supported Pipelines:\", AddonsManager.get_all_pipeline_names(scripts))"
   ]
  },
  {
   "cell_type": "markdown",
   "metadata": {},
   "source": [
    "## 4. Choose Any of the Following Cells"
   ]
  },
  {
   "cell_type": "markdown",
   "metadata": {},
   "source": [
    "These cells all provide some different kind of information about the cluster's scripts. Unless otherwise noted feel free to skip around and run them as you wish."
   ]
  },
  {
   "cell_type": "markdown",
   "metadata": {},
   "source": [
    "### Get the Supported Workflows in a Given Pipeline"
   ]
  },
  {
   "cell_type": "markdown",
   "metadata": {},
   "source": [
    "This cell prints out a list of workflows that are supported by a pipeline that you specify. The target_pipeline field can be set to a supported pipeline (see Get the Supported Pipelines) or \"all\". When set to \"all\", this cell will show all supported workflows by all pipelines. Note that the target_pipeline field is case sensitive."
   ]
  },
  {
   "cell_type": "code",
   "execution_count": 4,
   "metadata": {},
   "outputs": [
    {
     "name": "stdout",
     "output_type": "stream",
     "text": [
      "Supported Workflows in all Pipeline(s): \n",
      "{ 'ChiPSeq': ['homer'],\n",
      "  'DNASeq': ['bwa_gatk', 'bwa_mutect'],\n",
      "  'RNASeq': ['star_rsem', 'star_htseq', 'kallisto', 'star_gatk'],\n",
      "  'SmallRNASeq': ['bowtie2']}\n"
     ]
    }
   ],
   "source": [
    "#can be set to a supported pipeline name or \"all\"\n",
    "target_pipeline = \"all\"\n",
    "\n",
    "print(\"Supported Workflows in {} Pipeline(s): \".format(target_pipeline), end=\"\")\n",
    "pprint(AddonsManager.get_workflows_in_pipeline(scripts, target_pipeline), indent=2)"
   ]
  },
  {
   "cell_type": "markdown",
   "metadata": {},
   "source": [
    "### Get the Scripts Used by a Given Pipeline/Workflow"
   ]
  },
  {
   "cell_type": "markdown",
   "metadata": {},
   "source": [
    "This cell prints out a list of all the shell scripts that are used by a given pipeline or workflow. The target_pipeline field is the same as the target_pipeline field above. It can be set to a supported pipeline or to \"all\". When set to all, this cell will print the scripts used by every workflow in every pipeline. The target_workflow field is ignored if target_pipeline is set to \"all\". The target_workflow field can be set to a supported workflow for the provided target_pipeline or to all. See the previous cell for supported workflows for each pipeline. If set to \"all\", then this cell will print the shell scripts used by all workflows within the given pipeline."
   ]
  },
  {
   "cell_type": "code",
   "execution_count": 5,
   "metadata": {},
   "outputs": [
    {
     "name": "stdout",
     "output_type": "stream",
     "text": [
      "{'All Pipelines': ['fastqc.sh', 'multiqc.sh', 'trim.sh', 'run.sh'],\n",
      " 'ChiPSeq': {'All Workflows': [],\n",
      "             'homer': ['pos2bed.sh',\n",
      "                       'find_motifs_genome.sh',\n",
      "                       'annotate_peaks.sh',\n",
      "                       'make_tag_directory.sh',\n",
      "                       'bowtie.sh',\n",
      "                       'findpeaks.sh',\n",
      "                       'make_UCSC_file.sh']},\n",
      " 'DNASeq': {'All Workflows': ['merge.sh',\n",
      "                              'split.sh',\n",
      "                              'sort.sh',\n",
      "                              'bwa.sh',\n",
      "                              'post.sh',\n",
      "                              'dedup.sh'],\n",
      "            'bwa_gatk': ['haplo.sh', 'group_vcf.sh', 'filter.sh'],\n",
      "            'bwa_mutect': ['mutect.sh', 'merge_vcf_pairwise.sh']},\n",
      " 'RNASeq': {'All Workflows': ['RNA_merge_counts.sh', 'make_group.sh'],\n",
      "            'kallisto': ['k_align.sh', 'k_count.sh'],\n",
      "            'star_gatk': ['gatk_align.sh', 'gatk_vc.sh'],\n",
      "            'star_htseq': ['ht_align.sh', 'ht_count.sh'],\n",
      "            'star_rsem': ['cal_expression.sh', 'merge.sh']},\n",
      " 'SmallRNASeq': {'All Workflows': [],\n",
      "                 'bowtie2': ['cutadapt.sh',\n",
      "                             'bowtie2_and_count.sh',\n",
      "                             'miRNA_merge_counts.sh']}}\n"
     ]
    }
   ],
   "source": [
    "#can be set to a supported pipeline or \"all\"\n",
    "target_pipeline = \"all\"\n",
    "\n",
    "#can be set to a support workflow or \"all\"\n",
    "#if target_pipeline == \"all\" then this variable is ignored\n",
    "target_workflow = \"all\"\n",
    "\n",
    "pprint(AddonsManager.get_scripts(scripts, target_pipeline, target_workflow))"
   ]
  },
  {
   "cell_type": "markdown",
   "metadata": {},
   "source": [
    "### Print a Script"
   ]
  },
  {
   "cell_type": "markdown",
   "metadata": {},
   "source": [
    "This prints out the specified script. The whole shell script will be printed out. The target_pipeline field must be set to a valid pipeline, the target_workflow field must be set to a valid workflow in that pipeline, and the target_script field must be set to a valid script in that workflow. For scripts that are shared by multiple pipelines/workflows you must provide some pipeline/workflow that contains that script to print it out.\n",
    "\n",
    "The output will include a result surrounded by \"###\" that indicates where this script can be called from. Afterwards\n",
    "there will be an exact printout of the script specified."
   ]
  },
  {
   "cell_type": "code",
   "execution_count": 14,
   "metadata": {},
   "outputs": [
    {
     "name": "stdout",
     "output_type": "stream",
     "text": [
      "#################\n",
      "Pipeline Specific\n",
      "#################\n"
     ]
    },
    {
     "data": {
      "text/html": [
       "<!DOCTYPE html PUBLIC \"-//W3C//DTD HTML 4.01//EN\"\n",
       "   \"http://www.w3.org/TR/html4/strict.dtd\">\n",
       "\n",
       "<html>\n",
       "<head>\n",
       "  <title></title>\n",
       "  <meta http-equiv=\"content-type\" content=\"text/html; charset=None\">\n",
       "  <style type=\"text/css\">\n",
       "td.linenos { background-color: #f0f0f0; padding-right: 10px; }\n",
       "span.lineno { background-color: #f0f0f0; padding: 0 5px 0 5px; }\n",
       "pre { line-height: 125%; }\n",
       "body .hll { background-color: #ffffcc }\n",
       "body  { background: #f8f8f8; }\n",
       "body .c { color: #408080; font-style: italic } /* Comment */\n",
       "body .err { border: 1px solid #FF0000 } /* Error */\n",
       "body .k { color: #008000; font-weight: bold } /* Keyword */\n",
       "body .o { color: #666666 } /* Operator */\n",
       "body .ch { color: #408080; font-style: italic } /* Comment.Hashbang */\n",
       "body .cm { color: #408080; font-style: italic } /* Comment.Multiline */\n",
       "body .cp { color: #BC7A00 } /* Comment.Preproc */\n",
       "body .cpf { color: #408080; font-style: italic } /* Comment.PreprocFile */\n",
       "body .c1 { color: #408080; font-style: italic } /* Comment.Single */\n",
       "body .cs { color: #408080; font-style: italic } /* Comment.Special */\n",
       "body .gd { color: #A00000 } /* Generic.Deleted */\n",
       "body .ge { font-style: italic } /* Generic.Emph */\n",
       "body .gr { color: #FF0000 } /* Generic.Error */\n",
       "body .gh { color: #000080; font-weight: bold } /* Generic.Heading */\n",
       "body .gi { color: #00A000 } /* Generic.Inserted */\n",
       "body .go { color: #888888 } /* Generic.Output */\n",
       "body .gp { color: #000080; font-weight: bold } /* Generic.Prompt */\n",
       "body .gs { font-weight: bold } /* Generic.Strong */\n",
       "body .gu { color: #800080; font-weight: bold } /* Generic.Subheading */\n",
       "body .gt { color: #0044DD } /* Generic.Traceback */\n",
       "body .kc { color: #008000; font-weight: bold } /* Keyword.Constant */\n",
       "body .kd { color: #008000; font-weight: bold } /* Keyword.Declaration */\n",
       "body .kn { color: #008000; font-weight: bold } /* Keyword.Namespace */\n",
       "body .kp { color: #008000 } /* Keyword.Pseudo */\n",
       "body .kr { color: #008000; font-weight: bold } /* Keyword.Reserved */\n",
       "body .kt { color: #B00040 } /* Keyword.Type */\n",
       "body .m { color: #666666 } /* Literal.Number */\n",
       "body .s { color: #BA2121 } /* Literal.String */\n",
       "body .na { color: #7D9029 } /* Name.Attribute */\n",
       "body .nb { color: #008000 } /* Name.Builtin */\n",
       "body .nc { color: #0000FF; font-weight: bold } /* Name.Class */\n",
       "body .no { color: #880000 } /* Name.Constant */\n",
       "body .nd { color: #AA22FF } /* Name.Decorator */\n",
       "body .ni { color: #999999; font-weight: bold } /* Name.Entity */\n",
       "body .ne { color: #D2413A; font-weight: bold } /* Name.Exception */\n",
       "body .nf { color: #0000FF } /* Name.Function */\n",
       "body .nl { color: #A0A000 } /* Name.Label */\n",
       "body .nn { color: #0000FF; font-weight: bold } /* Name.Namespace */\n",
       "body .nt { color: #008000; font-weight: bold } /* Name.Tag */\n",
       "body .nv { color: #19177C } /* Name.Variable */\n",
       "body .ow { color: #AA22FF; font-weight: bold } /* Operator.Word */\n",
       "body .w { color: #bbbbbb } /* Text.Whitespace */\n",
       "body .mb { color: #666666 } /* Literal.Number.Bin */\n",
       "body .mf { color: #666666 } /* Literal.Number.Float */\n",
       "body .mh { color: #666666 } /* Literal.Number.Hex */\n",
       "body .mi { color: #666666 } /* Literal.Number.Integer */\n",
       "body .mo { color: #666666 } /* Literal.Number.Oct */\n",
       "body .sa { color: #BA2121 } /* Literal.String.Affix */\n",
       "body .sb { color: #BA2121 } /* Literal.String.Backtick */\n",
       "body .sc { color: #BA2121 } /* Literal.String.Char */\n",
       "body .dl { color: #BA2121 } /* Literal.String.Delimiter */\n",
       "body .sd { color: #BA2121; font-style: italic } /* Literal.String.Doc */\n",
       "body .s2 { color: #BA2121 } /* Literal.String.Double */\n",
       "body .se { color: #BB6622; font-weight: bold } /* Literal.String.Escape */\n",
       "body .sh { color: #BA2121 } /* Literal.String.Heredoc */\n",
       "body .si { color: #BB6688; font-weight: bold } /* Literal.String.Interpol */\n",
       "body .sx { color: #008000 } /* Literal.String.Other */\n",
       "body .sr { color: #BB6688 } /* Literal.String.Regex */\n",
       "body .s1 { color: #BA2121 } /* Literal.String.Single */\n",
       "body .ss { color: #19177C } /* Literal.String.Symbol */\n",
       "body .bp { color: #008000 } /* Name.Builtin.Pseudo */\n",
       "body .fm { color: #0000FF } /* Name.Function.Magic */\n",
       "body .vc { color: #19177C } /* Name.Variable.Class */\n",
       "body .vg { color: #19177C } /* Name.Variable.Global */\n",
       "body .vi { color: #19177C } /* Name.Variable.Instance */\n",
       "body .vm { color: #19177C } /* Name.Variable.Magic */\n",
       "body .il { color: #666666 } /* Literal.Number.Integer.Long */\n",
       "\n",
       "  </style>\n",
       "</head>\n",
       "<body>\n",
       "<h2></h2>\n",
       "\n",
       "<div class=\"highlight\"><pre><span></span><span class=\"ch\">#!/bin/bash</span>\n",
       "\n",
       "<span class=\"nv\">project_name</span><span class=\"o\">=</span><span class=\"nv\">$1</span>\n",
       "<span class=\"nv\">workflow</span><span class=\"o\">=</span><span class=\"nv\">$2</span>\n",
       "<span class=\"nv\">file_suffix</span><span class=\"o\">=</span><span class=\"nv\">$3</span>  <span class=\"c1\">#extension of input file, does not include .gz if present in input</span>\n",
       "<span class=\"nv\">root_dir</span><span class=\"o\">=</span><span class=\"nv\">$4</span>\n",
       "<span class=\"nv\">fastq_end1</span><span class=\"o\">=</span><span class=\"nv\">$5</span>\n",
       "<span class=\"nv\">fastq_end2</span><span class=\"o\">=</span><span class=\"nv\">$6</span>\n",
       "<span class=\"nv\">input_address</span><span class=\"o\">=</span><span class=\"nv\">$7</span>    <span class=\"c1\">#this is an s3 address e.g. s3://path/to/input/directory</span>\n",
       "<span class=\"nv\">output_address</span><span class=\"o\">=</span><span class=\"nv\">$8</span>   <span class=\"c1\">#this is an s3 address e.g. s3://path/to/output/directory</span>\n",
       "<span class=\"nv\">log_dir</span><span class=\"o\">=</span><span class=\"nv\">$9</span>\n",
       "<span class=\"nv\">is_zipped</span><span class=\"o\">=</span><span class=\"si\">${</span><span class=\"nv\">10</span><span class=\"si\">}</span>    <span class=\"c1\">#either &quot;True&quot; or &quot;False&quot;, indicates whether input is gzipped</span>\n",
       "<span class=\"nv\">num_threads</span><span class=\"o\">=</span><span class=\"si\">${</span><span class=\"nv\">11</span><span class=\"si\">}</span>\n",
       "<span class=\"nv\">platform_technology</span><span class=\"o\">=</span><span class=\"si\">${</span><span class=\"nv\">12</span><span class=\"si\">}</span>\n",
       "\n",
       "<span class=\"c1\">#logging</span>\n",
       "<span class=\"nv\">log_dir</span><span class=\"o\">=</span><span class=\"nv\">$log_dir</span>/<span class=\"nv\">$fastq_end1</span>\n",
       "mkdir -p <span class=\"nv\">$log_dir</span>\n",
       "<span class=\"nv\">log_file</span><span class=\"o\">=</span><span class=\"nv\">$log_dir</span>/<span class=\"s1\">&#39;bwa.log&#39;</span>\n",
       "<span class=\"nb\">exec</span> <span class=\"m\">1</span>&gt;&gt;<span class=\"nv\">$log_file</span>\n",
       "<span class=\"nb\">exec</span> <span class=\"m\">2</span>&gt;&gt;<span class=\"nv\">$log_file</span>\n",
       "\n",
       "<span class=\"nv\">status_file</span><span class=\"o\">=</span><span class=\"nv\">$log_dir</span>/<span class=\"s1\">&#39;status.log&#39;</span>\n",
       "touch <span class=\"nv\">$status_file</span>\n",
       "\n",
       "<span class=\"c1\">#prepare output directories</span>\n",
       "<span class=\"nv\">workspace</span><span class=\"o\">=</span><span class=\"nv\">$root_dir</span>/<span class=\"nv\">$project_name</span>/<span class=\"nv\">$workflow</span>/<span class=\"nv\">$fastq_end1</span>\n",
       "mkdir -p <span class=\"nv\">$workspace</span>\n",
       "\n",
       "<span class=\"nb\">echo</span> <span class=\"s2\">&quot;%%%%%%%%%%%%%%%%%%%%%%%%%%%%%%%%%%%%&quot;</span>\n",
       "date\n",
       "<span class=\"nb\">echo</span> <span class=\"s2\">&quot;%%%%%%%%%%%%%%%%%%%%%%%%%%%%%%%%%%%%&quot;</span>\n",
       "\n",
       "check_step_already_done <span class=\"nv\">$JOB_NAME</span> <span class=\"nv\">$status_file</span>\n",
       "\n",
       "<span class=\"c1\">##DOWNLOAD##</span>\n",
       "<span class=\"k\">if</span> <span class=\"o\">[</span> ! -f <span class=\"nv\">$workspace</span>/<span class=\"nv\">$fastq_end1$file_suffix</span> <span class=\"o\">]</span>\n",
       "<span class=\"k\">then</span>\n",
       "    <span class=\"c1\">#this is the suffix of the input from s3</span>\n",
       "    <span class=\"nv\">download_suffix</span><span class=\"o\">=</span><span class=\"nv\">$file_suffix</span>\n",
       "\n",
       "    <span class=\"c1\">#changes extension if S3 input is zipped</span>\n",
       "    <span class=\"k\">if</span> <span class=\"o\">[</span> <span class=\"s2\">&quot;</span><span class=\"nv\">$is_zipped</span><span class=\"s2\">&quot;</span> <span class=\"o\">==</span> <span class=\"s2\">&quot;True&quot;</span> <span class=\"o\">]</span>\n",
       "    <span class=\"k\">then</span>\n",
       "        <span class=\"nv\">download_suffix</span><span class=\"o\">=</span><span class=\"nv\">$file_suffix</span><span class=\"s2\">&quot;.gz&quot;</span>\n",
       "    <span class=\"k\">fi</span>\n",
       "\n",
       "    <span class=\"c1\">#always download forward reads</span>\n",
       "    aws s3 cp <span class=\"nv\">$input_address</span>/<span class=\"nv\">$fastq_end1$download_suffix</span> <span class=\"nv\">$workspace</span>/\n",
       "    gunzip -q <span class=\"nv\">$workspace</span>/<span class=\"nv\">$fastq_end1$download_suffix</span>\n",
       "\n",
       "    <span class=\"c1\">#download reverse reads if they exist</span>\n",
       "    <span class=\"k\">if</span> <span class=\"o\">[</span> <span class=\"s2\">&quot;</span><span class=\"nv\">$fastq_end2</span><span class=\"s2\">&quot;</span> !<span class=\"o\">=</span> <span class=\"s2\">&quot;NULL&quot;</span> <span class=\"o\">]</span>\n",
       "    <span class=\"k\">then</span>\n",
       "        aws s3 cp <span class=\"nv\">$input_address</span>/<span class=\"nv\">$fastq_end2$download_suffix</span> <span class=\"nv\">$workspace</span>/\n",
       "        gunzip -q <span class=\"nv\">$workspace</span>/<span class=\"nv\">$fastq_end2$download_suffix</span>\n",
       "    <span class=\"k\">fi</span>\n",
       "<span class=\"k\">fi</span>\n",
       "<span class=\"c1\">##END_DOWNLOAD##</span>\n",
       "\n",
       "\n",
       "<span class=\"c1\">##ALIGN##</span>\n",
       "<span class=\"k\">if</span> <span class=\"o\">[</span> <span class=\"s2\">&quot;fastq_end2&quot;</span> <span class=\"o\">==</span> <span class=\"s2\">&quot;NULL&quot;</span> <span class=\"o\">]</span>\n",
       "<span class=\"k\">then</span>\n",
       "    check_exit_status <span class=\"s2\">&quot;</span><span class=\"nv\">$bwa</span><span class=\"s2\"> mem -M -t </span><span class=\"nv\">$num_threads</span><span class=\"s2\"> -R &#39;@RG\\tID:1\\tPL:ILLUMINA\\tPU:tempID\\tSM:</span><span class=\"nv\">$fastq_end1</span><span class=\"s2\">&#39; -v 1 \\</span>\n",
       "<span class=\"s2\">        </span><span class=\"nv\">$bwa_index</span><span class=\"s2\"> </span><span class=\"nv\">$workspace</span><span class=\"s2\">/</span><span class=\"nv\">$fastq_end1$file_suffix</span><span class=\"s2\"> | </span><span class=\"nv\">$samblaster</span><span class=\"s2\"> | \\</span>\n",
       "<span class=\"s2\">        </span><span class=\"nv\">$samtools</span><span class=\"s2\"> view -Sb - &gt; </span><span class=\"nv\">$workspace</span><span class=\"s2\">/</span><span class=\"nv\">$fastq_end1</span><span class=\"s2\">.bam&quot;</span> <span class=\"nv\">$JOB_NAME</span> <span class=\"nv\">$status_file</span>\n",
       "<span class=\"k\">else</span>\n",
       "    check_exit_status <span class=\"s2\">&quot;</span><span class=\"nv\">$bwa</span><span class=\"s2\"> mem -M -t </span><span class=\"nv\">$num_threads</span><span class=\"s2\"> -R &#39;@RG\\tID:1\\tPL:ILLUMINA\\tPU:tempID\\tSM:</span><span class=\"nv\">$fastq_end1</span><span class=\"s2\">&#39; -v 1 \\</span>\n",
       "<span class=\"s2\">        </span><span class=\"nv\">$bwa_index</span><span class=\"s2\"> </span><span class=\"nv\">$workspace</span><span class=\"s2\">/</span><span class=\"nv\">$fastq_end1$file_suffix</span><span class=\"s2\"> </span><span class=\"nv\">$workspace</span><span class=\"s2\">/</span><span class=\"nv\">$fastq_end2$file_suffix</span><span class=\"s2\"> | </span><span class=\"nv\">$samblaster</span><span class=\"s2\"> | \\</span>\n",
       "<span class=\"s2\">        </span><span class=\"nv\">$samtools</span><span class=\"s2\"> view -Sb - &gt; </span><span class=\"nv\">$workspace</span><span class=\"s2\">/</span><span class=\"nv\">$fastq_end1</span><span class=\"s2\">.bam&quot;</span> <span class=\"nv\">$JOB_NAME</span> <span class=\"nv\">$status_file</span>\n",
       "<span class=\"k\">fi</span>\n",
       "\n",
       "check_exit_status <span class=\"s2\">&quot;</span><span class=\"nv\">$samtools</span><span class=\"s2\"> stats </span><span class=\"nv\">$workspace</span><span class=\"s2\">/</span><span class=\"nv\">$fastq_end1</span><span class=\"s2\">.bam &gt; </span><span class=\"nv\">$workspace</span><span class=\"s2\">/</span><span class=\"si\">${</span><span class=\"nv\">fastq_end1</span><span class=\"si\">}</span><span class=\"s2\">.txt&quot;</span> <span class=\"nv\">$JOB_NAME</span> <span class=\"nv\">$status_file</span>\n",
       "check_exit_status <span class=\"s2\">&quot;check_outputs_exist </span><span class=\"nv\">$workspace</span><span class=\"s2\">/</span><span class=\"nv\">$fastq_end1</span><span class=\"s2\">.txt </span><span class=\"nv\">$workspace</span><span class=\"s2\">/</span><span class=\"nv\">$fastq_end1</span><span class=\"s2\">.bam&quot;</span> <span class=\"nv\">$JOB_NAME</span> <span class=\"nv\">$status_file</span>\n",
       "<span class=\"c1\">##END_ALIGN##</span>\n",
       "\n",
       "<span class=\"c1\">##UPLOAD##</span>\n",
       "aws s3 cp <span class=\"nv\">$workspace</span> <span class=\"nv\">$output_address</span>/ --exclude <span class=\"s2\">&quot;*&quot;</span> --include <span class=\"s2\">&quot;</span><span class=\"nv\">$fastq_end1</span><span class=\"s2\">.bam&quot;</span> --include <span class=\"s2\">&quot;</span><span class=\"si\">${</span><span class=\"nv\">fastq_end1</span><span class=\"si\">}</span><span class=\"s2\">.txt&quot;</span> --recursive\n",
       "<span class=\"c1\">##END_UPLOAD##</span>\n",
       "</pre></div>\n",
       "</body>\n",
       "</html>\n"
      ],
      "text/plain": [
       "<IPython.core.display.HTML object>"
      ]
     },
     "metadata": {},
     "output_type": "display_data"
    }
   ],
   "source": [
    "#all targets must be set to a valid pipeline/workflow/script\n",
    "#use cells above to check valid options\n",
    "\n",
    "target_pipeline = \"DNASeq\"\n",
    "target_workflow = \"bwa_gatk\"\n",
    "target_script = \"bwa.sh\"\n",
    "\n",
    "loc, file_cat = AddonsManager.cat_script(ssh_client, scripts, target_pipeline, target_workflow, target_script)\n",
    "\n",
    "print(\"\".join([\"#\"]*len(loc)) + \"\\n{}\\n\".format(loc) + \"\".join([\"#\"]*len(loc)))\n",
    "AddonsManager.show_script(file_cat)"
   ]
  },
  {
   "cell_type": "markdown",
   "metadata": {},
   "source": [
    "### Check Which Step Calls a Script"
   ]
  },
  {
   "cell_type": "markdown",
   "metadata": {},
   "source": [
    "This cell shows the user which steps in the pipeline notebooks actually call a given shell script. The target_script field should be a shell script that exists on the pipeline (including the .sh file extension). The output will contain\n",
    "where the shell script is called from. If (for example) fastqc.sh is called from the fastqc step in every pipeline, then the output will only say \"fastqc in all Pipelines\". "
   ]
  },
  {
   "cell_type": "code",
   "execution_count": 7,
   "metadata": {},
   "outputs": [
    {
     "name": "stdout",
     "output_type": "stream",
     "text": [
      "k_align.sh called from:\n",
      "align in the RNASeq kallisto workflow\n",
      "\n"
     ]
    }
   ],
   "source": [
    "#should be the name of a shell script on the cluster (include sh extension)\n",
    "target_script = \"k_align.sh\"\n",
    "\n",
    "print(AddonsManager.get_steps_calling_script(ssh_client, scripts, target_script))"
   ]
  }
 ],
 "metadata": {
  "kernelspec": {
   "display_name": "Python 3",
   "language": "python",
   "name": "python3"
  },
  "language_info": {
   "codemirror_mode": {
    "name": "ipython",
    "version": 3
   },
   "file_extension": ".py",
   "mimetype": "text/x-python",
   "name": "python",
   "nbconvert_exporter": "python",
   "pygments_lexer": "ipython3",
   "version": "3.6.1"
  }
 },
 "nbformat": 4,
 "nbformat_minor": 2
}
