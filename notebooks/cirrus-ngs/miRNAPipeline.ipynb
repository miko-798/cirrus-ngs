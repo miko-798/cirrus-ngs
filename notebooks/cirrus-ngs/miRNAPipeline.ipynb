{
 "cells": [
  {
   "cell_type": "markdown",
   "metadata": {},
   "source": [
    "# miRNA Pipeline (with MultiQC analysis)"
   ]
  },
  {
   "cell_type": "markdown",
   "metadata": {},
   "source": [
    "Notice: Please open the notebook under /notebooks/awsCluster/BasicCFNClusterSetup.ipynb to install CFNCluster package on your Jupyter-notebook server before running the notebook."
   ]
  },
  {
   "cell_type": "markdown",
   "metadata": {},
   "source": [
    "## 1. Configure AWS key pair, data location on S3 and the project information"
   ]
  },
  {
   "cell_type": "code",
   "execution_count": 2,
   "metadata": {},
   "outputs": [
    {
     "name": "stdout",
     "output_type": "stream",
     "text": [
      "Variables set.\n"
     ]
    }
   ],
   "source": [
    "import os\n",
    "import sys\n",
    "\n",
    "## S3 input and output addresses.\n",
    "# Notice: DO NOT put a forward slash at the end of your addresses.\n",
    "s3_input_files_address = \"s3://ucsd-ccbb-interns/Mengyi/mirna_test/20171107_Tom_miRNASeq/fastq\"\n",
    "s3_output_files_address = \"s3://ucsd-ccbb-interns/Mustafa/smallrna_test\"\n",
    "    \n",
    "## Path to the design file\n",
    "design_file = \"../../data/cirrus-ngs/mirna_test_design.txt\"\n",
    "\n",
    "## CFNCluster name\n",
    "your_cluster_name = \"mustafa7\"\n",
    "\n",
    "## The private key pair for accessing cluster.\n",
    "private_key = \"/home/mustafa/keys/interns_oregon_key.pem\"\n",
    "\n",
    "## Project information\n",
    "# Recommended: Specify year, month, date, user name and pipeline name (no empty spaces)\n",
    "project_name = \"new_test_mi1\"\n",
    "\n",
    "## Workflow information: only \"bowtie2\" now\n",
    "workflow = \"bowtie2\"\n",
    "\n",
    "## Genome information: currently available genomes: human, mouse\n",
    "genome = \"human\"\n",
    "\n",
    "## \"fastqc\", \"trim\", \"cut_adapt\", \"align_and_count\", \"merge_counts\", \"multiqc\"\n",
    "analysis_steps = {\"fastqc\", \"trim\", \"cut_adapt\", \"align_and_count\",\"multiqc\"}\n",
    "\n",
    "## If delete cfncluster after job is done.\n",
    "delete_cfncluster = False\n",
    "\n",
    "print(\"Variables set.\")"
   ]
  },
  {
   "cell_type": "markdown",
   "metadata": {},
   "source": [
    "## 2. Create CFNCluster"
   ]
  },
  {
   "cell_type": "markdown",
   "metadata": {},
   "source": [
    "Notice: The CFNCluster package can be only installed on Linux box which supports pip installation."
   ]
  },
  {
   "cell_type": "code",
   "execution_count": 4,
   "metadata": {},
   "outputs": [
    {
     "name": "stdout",
     "output_type": "stream",
     "text": [
      "cluster mustafa7 does exist.\n",
      "warning: There is a newer version 1.4.2 of cfncluster available.\n",
      "Status: CREATE_COMPLETE\n",
      "Status: CREATE_COMPLETE\n",
      "MasterServer: RUNNING\n",
      "MasterServer: RUNNING\n",
      "Output:\"MasterPublicIP\"=\"34.214.180.149\"\n",
      "Output:\"MasterPrivateIP\"=\"172.31.33.31\"\n",
      "Output:\"GangliaPublicURL\"=\"http://34.214.180.149/ganglia/\"\n",
      "Output:\"GangliaPrivateURL\"=\"http://172.31.33.31/ganglia/\"\n",
      "\n",
      "connecting\n",
      "connected\n"
     ]
    }
   ],
   "source": [
    "sys.path.append(\"../../src/cirrus_ngs\")\n",
    "from cfnCluster import CFNClusterManager, ConnectionManager\n",
    "## Create a new cluster\n",
    "master_ip_address = CFNClusterManager.create_cfn_cluster(cluster_name=your_cluster_name)\n",
    "ssh_client = ConnectionManager.connect_master(hostname=master_ip_address,\n",
    "                                              username=\"ec2-user\",\n",
    "                                              private_key_file=private_key)"
   ]
  },
  {
   "cell_type": "markdown",
   "metadata": {},
   "source": [
    "## 3. Run the pipeline"
   ]
  },
  {
   "cell_type": "code",
   "execution_count": 5,
   "metadata": {},
   "outputs": [
    {
     "name": "stdout",
     "output_type": "stream",
     "text": [
      "hairpin_human\n",
      "[['AD17-WK52_ACTGAT_S72_L002_R1_001.fastq.gz'], ['AD17-WK73_GTGAAA_S18_L001_R1_001.fastq.gz'], ['AD5-WK24_GTGGCC_S67_L002_R1_001.fastq.gz']]\n",
      "['group1', 'group1', 'group2']\n",
      "{}\n",
      "making the yaml file...\n",
      "copying yaml file to remote master node...\n",
      "new_test_mi1.yaml\n",
      "/shared/workspace/Pipelines/yaml_files/SmallRNASeq/bowtie2\n",
      "executing pipeline...\n"
     ]
    }
   ],
   "source": [
    "from util import PipelineManager\n",
    "from util import DesignFileLoader\n",
    "\n",
    "## DO NOT edit below\n",
    "reference = \"hairpin_{}\".format(genome)\n",
    "print(reference)\n",
    "\n",
    "sample_list, group_list, pair_list = DesignFileLoader.load_design_file(design_file)\n",
    "\n",
    "PipelineManager.execute(\"SmallRNASeq\", ssh_client, project_name, workflow, analysis_steps, s3_input_files_address,\n",
    "                       sample_list, group_list, s3_output_files_address, reference, \"NA\", pair_list)"
   ]
  },
  {
   "cell_type": "markdown",
   "metadata": {},
   "source": [
    "## 4. Check status of pipeline"
   ]
  },
  {
   "cell_type": "code",
   "execution_count": 23,
   "metadata": {},
   "outputs": [
    {
     "name": "stdout",
     "output_type": "stream",
     "text": [
      "checking status of jobs...\n",
      "\n",
      "Your project will go through the following steps:\n",
      "\talign_and_count, multiqc\n",
      "\n",
      "The align_and_count step calls the bowtie2_and_count.sh script on the cluster\n",
      "The align_and_count step is being executed\n",
      "There are 1 instances of the align_and_count step currently queued\n",
      "\tone is currently queued using 4 core(s) and was submitted 0 days, 0 hours, and 0 minutes ago\n",
      "There are 2 instances of the align_and_count step currently running\n",
      "\tone is currently running using 4 core(s) and was submitted 0 days, 0 hours, and 0 minutes ago\n",
      "\tone is currently running using 4 core(s) and was submitted 0 days, 0 hours, and 0 minutes ago\n",
      "\n",
      "The multiqc step calls the multiqc.sh script on the cluster\n",
      "The multiqc step has not started yet.\n",
      "\n",
      "\n"
     ]
    }
   ],
   "source": [
    "step=\"all\"\n",
    "PipelineManager.check_status(ssh_client, step, \"SmallRNASeq\", workflow, project_name, analysis_steps,verbose=True)"
   ]
  },
  {
   "cell_type": "markdown",
   "metadata": {
    "collapsed": true
   },
   "source": [
    "## 5. Display MultiQC report"
   ]
  },
  {
   "cell_type": "markdown",
   "metadata": {},
   "source": [
    "### Note: Run the cells below after all jobs are done on the cluster."
   ]
  },
  {
   "cell_type": "code",
   "execution_count": 25,
   "metadata": {},
   "outputs": [
    {
     "name": "stdout",
     "output_type": "stream",
     "text": [
      "download: s3://ucsd-ccbb-interns/Mustafa/smallrna_test/test_mi1/bowtie2/multiqc_report.html to ../../data/multiqc_report.html\n"
     ]
    }
   ],
   "source": [
    "# Download the html file to local (in the same directory with this notebook)\n",
    "notebook_dir = os.getcwd().split(\"notebooks\")[0] + \"data/\"\n",
    "!aws s3 cp $s3_output_files_address/$project_name/$workflow/multiqc_report.html $notebook_dir"
   ]
  },
  {
   "cell_type": "code",
   "execution_count": 19,
   "metadata": {},
   "outputs": [
    {
     "data": {
      "text/html": [
       "\n",
       "        <iframe\n",
       "            width=\"100%\"\n",
       "            height=\"1000\"\n",
       "            src=\"../../data/multiqc_report2.html\"\n",
       "            frameborder=\"0\"\n",
       "            allowfullscreen\n",
       "        ></iframe>\n",
       "        "
      ],
      "text/plain": [
       "<IPython.lib.display.IFrame at 0x7f6857fc4908>"
      ]
     },
     "execution_count": 19,
     "metadata": {},
     "output_type": "execute_result"
    }
   ],
   "source": [
    "from IPython.display import IFrame\n",
    "  \n",
    "IFrame(os.path.relpath(\"{}multiqc_report2.html\".format(notebook_dir)), width=\"100%\", height=1000)"
   ]
  },
  {
   "cell_type": "code",
   "execution_count": 26,
   "metadata": {},
   "outputs": [
    {
     "data": {
      "text/html": [
       "\n",
       "        <iframe\n",
       "            width=\"100%\"\n",
       "            height=\"1000\"\n",
       "            src=\"../../data/multiqc_report.html\"\n",
       "            frameborder=\"0\"\n",
       "            allowfullscreen\n",
       "        ></iframe>\n",
       "        "
      ],
      "text/plain": [
       "<IPython.lib.display.IFrame at 0x7f687b3339b0>"
      ]
     },
     "execution_count": 26,
     "metadata": {},
     "output_type": "execute_result"
    }
   ],
   "source": [
    "IFrame(os.path.relpath(\"{}multiqc_report.html\".format(notebook_dir)), width=\"100%\", height=1000)"
   ]
  },
  {
   "cell_type": "code",
   "execution_count": null,
   "metadata": {
    "collapsed": true
   },
   "outputs": [],
   "source": []
  }
 ],
 "metadata": {
  "kernelspec": {
   "display_name": "Python 3",
   "language": "python",
   "name": "python3"
  },
  "language_info": {
   "codemirror_mode": {
    "name": "ipython",
    "version": 3
   },
   "file_extension": ".py",
   "mimetype": "text/x-python",
   "name": "python",
   "nbconvert_exporter": "python",
   "pygments_lexer": "ipython3",
   "version": "3.6.1"
  }
 },
 "nbformat": 4,
 "nbformat_minor": 1
}
