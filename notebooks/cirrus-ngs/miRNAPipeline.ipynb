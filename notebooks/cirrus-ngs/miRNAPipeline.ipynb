{
 "cells": [
  {
   "cell_type": "markdown",
   "metadata": {},
   "source": [
    "# miRNA Pipeline (with MultiQC analysis)"
   ]
  },
  {
   "cell_type": "markdown",
   "metadata": {},
   "source": [
    "Notice: Please open the notebook under /notebooks/awsCluster/BasicCFNClusterSetup.ipynb to install CFNCluster package on your Jupyter-notebook server before running the notebook."
   ]
  },
  {
   "cell_type": "markdown",
   "metadata": {},
   "source": [
    "# 1. Configure AWS key pair, data location on S3 and the project information"
   ]
  },
  {
   "cell_type": "code",
   "execution_count": null,
   "metadata": {
    "collapsed": true
   },
   "outputs": [],
   "source": [
    "import os\n",
    "import sys\n",
    "\n",
    "## S3 input and output addresses.\n",
    "# Notice: DO NOT put a forward slash at the end of your addresses.\n",
    "s3_input_files_address = \"s3://path/to/s3_input_files_address\"\n",
    "s3_output_files_address = \"s3://path/to/s3_output_files_address\"\n",
    "\n",
    "## Directory for this notebook - for displaying multiqc report\n",
    "notebook_dir = \"path/to/notebook\"\n",
    "    \n",
    "## Path to the design file\n",
    "design_file = \"/path/to/design_file.txt\"\n",
    "\n",
    "## CFNCluster name\n",
    "your_cluster_name = \"cluster_name\"\n",
    "\n",
    "## The private key pair for accessing cluster.\n",
    "private_key = \"/path/to/aws_private_key.pem\"\n",
    "\n",
    "## Project information\n",
    "# Recommended: Specify year, month, date, user name and pipeline name (no empty spaces)\n",
    "project_name = \"your_project_name\"\n",
    "\n",
    "## Workflow information: only \"bowtie2\" now\n",
    "workflow = \"bowtie2\"\n",
    "\n",
    "## Genome information: currently available genomes: human, mouse\n",
    "genome = \"\"\n",
    "\n",
    "## \"fastqc\", \"trim\", \"cut_adapt\", \"align_and_count\", \"merge_counts\", \"multiqc\"\n",
    "analysis_steps = {\"\"}\n",
    "\n",
    "## If delete cfncluster after job is done.\n",
    "delete_cfncluster = False\n",
    "\n",
    "print(\"Variables set.\")"
   ]
  },
  {
   "cell_type": "markdown",
   "metadata": {},
   "source": [
    "# 2. Create CFNCluster"
   ]
  },
  {
   "cell_type": "markdown",
   "metadata": {},
   "source": [
    "Notice: The CFNCluster package can be only installed on Linux box which supports pip installation."
   ]
  },
  {
   "cell_type": "code",
   "execution_count": null,
   "metadata": {
    "collapsed": true
   },
   "outputs": [],
   "source": [
    "sys.path.append(\"../../src/cirrus_ngs\")\n",
    "from cfnCluster import CFNClusterManager, ConnectionManager\n",
    "## Create a new cluster\n",
    "master_ip_address = CFNClusterManager.create_cfn_cluster(cluster_name=your_cluster_name)\n",
    "ssh_client = ConnectionManager.connect_master(hostname=master_ip_address,\n",
    "                                              username=\"ec2-user\",\n",
    "                                              private_key_file=private_key)"
   ]
  },
  {
   "cell_type": "markdown",
   "metadata": {},
   "source": [
    "# 3. Run the miRNA sequencing pipeline"
   ]
  },
  {
   "cell_type": "code",
   "execution_count": null,
   "metadata": {
    "collapsed": true
   },
   "outputs": [],
   "source": [
    "from util import PipelineManager\n",
    "from util import DesignFileLoader\n",
    "\n",
    "## DO NOT edit below\n",
    "genome = \"hairpin_{}\".format(genome)\n",
    "print(genome)\n",
    "\n",
    "sample_list, group_list, pair_list = DesignFileLoader.load_design_file(design_file)\n",
    "\n",
    "PipelineManager.execute(\"SmallRNASeq\", ssh_client, project_name, workflow, analysis_steps, s3_input_files_address,\n",
    "                       sample_list, group_list, s3_output_files_address, genome, \"NA\", pair_list)"
   ]
  },
  {
   "cell_type": "markdown",
   "metadata": {
    "collapsed": true
   },
   "source": [
    "# 4. Display MultiQC report"
   ]
  },
  {
   "cell_type": "markdown",
   "metadata": {},
   "source": [
    "### Note: Run the cells below after all jobs are done on the cluster."
   ]
  },
  {
   "cell_type": "code",
   "execution_count": null,
   "metadata": {
    "collapsed": true
   },
   "outputs": [],
   "source": [
    "# Download the html file to local (in the same directory with this notebook)\n",
    "!aws s3 cp $s3_output_files_address/$project_name/$workflow/multiqc_report.html $notebook_dir"
   ]
  },
  {
   "cell_type": "code",
   "execution_count": null,
   "metadata": {
    "collapsed": true
   },
   "outputs": [],
   "source": [
    "from IPython.display import IFrame\n",
    "  \n",
    "path_to_report = os.path.relpath(notebook_dir + \"/multiqc_report.html\")\n",
    "\n",
    "IFrame(path_to_report, width=\"100%\", height=1000)"
   ]
  }
 ],
 "metadata": {
  "kernelspec": {
   "display_name": "Python 3",
   "language": "python",
   "name": "python3"
  },
  "language_info": {
   "codemirror_mode": {
    "name": "ipython",
    "version": 3
   },
   "file_extension": ".py",
   "mimetype": "text/x-python",
   "name": "python",
   "nbconvert_exporter": "python",
   "pygments_lexer": "ipython3",
   "version": "3.6.1"
  }
 },
 "nbformat": 4,
 "nbformat_minor": 1
}
