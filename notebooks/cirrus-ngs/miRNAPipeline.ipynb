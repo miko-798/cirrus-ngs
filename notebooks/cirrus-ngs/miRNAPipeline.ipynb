{
 "cells": [
  {
   "cell_type": "markdown",
   "metadata": {},
   "source": [
    "# miRNA Pipeline"
   ]
  },
  {
   "cell_type": "markdown",
   "metadata": {},
   "source": [
    "Notice: Please open the notebook under /notebooks/awsCluster/BasicCFNClusterSetup.ipynb to install CFNCluster package on your Jupyter-notebook server before running the notebook."
   ]
  },
  {
   "cell_type": "markdown",
   "metadata": {},
   "source": [
    "# 1. Configure AWS key pair, data location on S3 and the project information"
   ]
  },
  {
   "cell_type": "code",
   "execution_count": null,
   "metadata": {
    "collapsed": true
   },
   "outputs": [],
   "source": [
    "import os\n",
    "import sys\n",
    "\n",
    "## S3 input and output address.\n",
    "s3_input_files_address = \"s3://path/to/s3_input_files_address\"\n",
    "s3_output_files_address = \"s3://path/to/s3_output_files_address\"\n",
    "\n",
    "## CFNCluster name\n",
    "your_cluster_name = \"cluster_name\"\n",
    "\n",
    "## The private key pair for accessing cluster.\n",
    "private_key = \"/path/to/aws_priate_key.pem\"\n",
    "\n",
    "## Project information\n",
    "project_name = \"miRNA_analysis\"\n",
    "\n",
    "## If delete cfncluster after job is done.\n",
    "delete_cfncluster = False\n",
    "\n",
    "print(\"Variables set.\")\n"
   ]
  },
  {
   "cell_type": "markdown",
   "metadata": {},
   "source": [
    "# 2. Create CFNCluster"
   ]
  },
  {
   "cell_type": "markdown",
   "metadata": {},
   "source": [
    "Notice: The CFNCluster package can be only installed on Linux box which supports pip installation."
   ]
  },
  {
   "cell_type": "code",
   "execution_count": null,
   "metadata": {
    "collapsed": true
   },
   "outputs": [],
   "source": [
    "sys.path.append(\"../../src/cirrus_ngs\")\n",
    "from cfnCluster import CFNClusterManager, ConnectionManager\n",
    "## Create a new cluster\n",
    "master_ip_address = CFNClusterManager.create_cfn_cluster(cluster_name=your_cluster_name)\n",
    "ssh_client = ConnectionManager.connect_master(hostname=master_ip_address,\n",
    "               username=\"ec2-user\",\n",
    "               private_key_file=private_key)"
   ]
  },
  {
   "cell_type": "markdown",
   "metadata": {},
   "source": [
    "# 3. Run the miRNA sequencing pipeline"
   ]
  },
  {
   "cell_type": "code",
   "execution_count": null,
   "metadata": {
    "collapsed": true
   },
   "outputs": [],
   "source": [
    "from miRNASeq import SmallRNAPipelineManager\n",
    "from util import DesignFileLoader\n",
    "\n",
    "## \"fastqc\", \"bowtie-alignment\", \"counting\"\n",
    "analysis_steps = [\"fastqc\", \"trim\"]\n",
    "    \n",
    "## load design file by calling a function load_design_file in GroupFileMaker.\n",
    "design_file = \"/path/to/design_file.txt\"\n",
    "sample_list, group_list = DesignFileLoader.load_design_file(design_file)\n",
    "    \n",
    "SmallRNAPipelineManager.execute(ssh_client, project_name, analysis_steps, s3_input_files_address,\n",
    "                       sample_list, group_list, s3_output_files_address)"
   ]
  },
  {
   "cell_type": "code",
   "execution_count": null,
   "metadata": {
    "collapsed": true
   },
   "outputs": [],
   "source": []
  }
 ],
 "metadata": {
  "kernelspec": {
   "display_name": "Python 2",
   "language": "python",
   "name": "python2"
  },
  "language_info": {
   "codemirror_mode": {
    "name": "ipython",
    "version": 2
   },
   "file_extension": ".py",
   "mimetype": "text/x-python",
   "name": "python",
   "nbconvert_exporter": "python",
   "pygments_lexer": "ipython2",
   "version": "2.7.13"
  }
 },
 "nbformat": 4,
 "nbformat_minor": 2
}
