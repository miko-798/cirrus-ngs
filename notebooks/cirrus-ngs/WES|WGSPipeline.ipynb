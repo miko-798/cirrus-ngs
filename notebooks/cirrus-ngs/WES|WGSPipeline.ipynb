{
 "cells": [
  {
   "cell_type": "markdown",
   "metadata": {},
   "source": [
    "# WES|WGSPipeline "
   ]
  },
  {
   "cell_type": "code",
   "execution_count": 22,
   "metadata": {},
   "outputs": [
    {
     "name": "stdout",
     "output_type": "stream",
     "text": [
      "variables set\n"
     ]
    }
   ],
   "source": [
    "import os\n",
    "import sys\n",
    "\n",
    "#s3 address of \n",
    "s3_input_files_address = \"s3://ucsd-ccbb-interns/Mustafa/wgs_test/Sample_cDNA/mouse_samples\"\n",
    "s3_output_files_address = \"s3://ucsd-ccbb-interns/Mustafa/wgs_test/Sample_cDNA/newmouse\"\n",
    "\n",
    "## CFNCluster name\n",
    "your_cluster_name = \"mustafa5\"\n",
    "\n",
    "## The private key pair for accessing cluster.\n",
    "private_key = \"/home/mustafa/interns_oregon_key.pem\"\n",
    "\n",
    "## Project information\n",
    "project_name = \"nobashrc\"\n",
    "\n",
    "#bwa_gatk or bwa_mutect\n",
    "workflow = \"bwa_mutect\"\n",
    "\n",
    "#hg19, GRCm38\n",
    "genome = \"GRCm38\"\n",
    "\n",
    "## Technology used to produce reads\n",
    "## Values must be: CAPILLARY, LS454, ILLUMINA, SOLID, HELICOS, IONTORRENT, ONT, or PACBIO\n",
    "# TODO: get rid of this, it does nothing\n",
    "platform_technology = \"ILLUMINA\"\n",
    "\n",
    "\n",
    "## If delete cfncluster after job is done.\n",
    "delete_cfncluster= False\n",
    "\n",
    "print(\"variables set\")"
   ]
  },
  {
   "cell_type": "code",
   "execution_count": 23,
   "metadata": {
    "scrolled": true
   },
   "outputs": [
    {
     "name": "stdout",
     "output_type": "stream",
     "text": [
      "cluster mustafa5 does exist.\n",
      "\n",
      "Status: CREATE_COMPLETE\n",
      "Status: CREATE_COMPLETE\n",
      "MasterServer: RUNNING\n",
      "MasterServer: RUNNING\n",
      "Output:\"MasterPublicIP\"=\"52.43.127.225\"\n",
      "Output:\"MasterPrivateIP\"=\"172.31.27.132\"\n",
      "Output:\"GangliaPublicURL\"=\"http://52.43.127.225/ganglia/\"\n",
      "Output:\"GangliaPrivateURL\"=\"http://172.31.27.132/ganglia/\"\n",
      "\n",
      "connecting\n",
      "connected\n"
     ]
    }
   ],
   "source": [
    "sys.path.append(\"../../src/cirrus_ngs\")\n",
    "from cfnCluster import CFNClusterManager, ConnectionManager\n",
    "\n",
    "## Create a new cluster\n",
    "master_ip_address = CFNClusterManager.create_cfn_cluster(cluster_name=your_cluster_name)\n",
    "ssh_client = ConnectionManager.connect_master(hostname=master_ip_address,\n",
    "               username=\"ec2-user\",\n",
    "               private_key_file=private_key)"
   ]
  },
  {
   "cell_type": "code",
   "execution_count": 24,
   "metadata": {},
   "outputs": [
    {
     "name": "stdout",
     "output_type": "stream",
     "text": [
      "[['SRR2473232_1.fastq.gz', 'SRR2473232_2.fastq.gz'], ['SRR616274_1.fastq.gz', 'SRR616274_2.fastq.gz']]\n",
      "['groupA', 'groupA']\n",
      "{'SRR2473232_1': 'SRR616274_1'}\n",
      "making the yaml file...\n",
      "copying yaml file to remote master node...\n",
      "nobashrc.yaml\n",
      "/shared/workspace/Pipelines/yaml_files/DNASeq/bwa_mutect\n",
      "executing pipeline...\n",
      "Executing qsub -V -o /dev/null -e /dev/null /shared/workspace/Pipelines/scripts/run.sh /shared/workspace/Pipelines/yaml_files/DNASeq/bwa_mutect/nobashrc.yaml /shared/workspace/logs/DNASeq/bwa_mutect/nobashrc DNASeq_bwa_mutect\n"
     ]
    }
   ],
   "source": [
    "from util import PipelineManager\n",
    "from util import DesignFileLoader\n",
    "\n",
    "## Possible analysis_steps inputs for the two workflows. Order of input does not matter.\n",
    "\n",
    "##bwa_gatk: \"fastqc\", \"trim\", \"bwa\", \"sort\", \"dedup\", \"split\", \"postalignment\", \n",
    "#\"haplotype\", \"merge\", \"combine_vcf\", \"filter\"\n",
    "\n",
    "##bwa_mutect: \"fastqc\", \"trim\" , \"bwa\", \"sort\", \"dedup\", \"split\", \"mutect\", \"bam_merge\", \"pair_vcf_merge\"\n",
    "analysis_steps = {\n",
    "                    \"fastqc\"\n",
    "                    #,\"trim\"\n",
    "                    #,\"bwa\"\n",
    "                    #,\"multiqc\"\n",
    "                    #\"sort\"\n",
    "                    #,\"dedup\"\n",
    "                    #\"split\"\n",
    "                    #,\"postalignment\"\n",
    "                    #,\"haplotype\"\n",
    "                    #\"mutect\"\n",
    "                    #\"merge\" \n",
    "                    #\"bam_merge\"\n",
    "                    #\"pair_vcf_merge\"\n",
    "                    #,\"combine_vcf\"\n",
    "                    #\"filter\"\n",
    "                }\n",
    "\n",
    "design_file = \"/home/mustafa/ccbb/cirrus-ngs/data/cirrus-ngs/mouse_test.txt\"\n",
    "\n",
    "sample_list, group_list, pairs_list = DesignFileLoader.load_design_file(design_file)\n",
    "\n",
    "PipelineManager.execute(\"DNASeq\", ssh_client, project_name, workflow, analysis_steps, s3_input_files_address,\n",
    "                       sample_list, group_list, s3_output_files_address, genome, \"NA\", pairs_list)"
   ]
  },
  {
   "cell_type": "code",
   "execution_count": 10,
   "metadata": {},
   "outputs": [
    {
     "name": "stdout",
     "output_type": "stream",
     "text": [
      "checking status of jobs...\n",
      "Executing qstat\n"
     ]
    },
    {
     "ename": "NameError",
     "evalue": "name 'logs_dir' is not defined",
     "output_type": "error",
     "traceback": [
      "\u001b[0;31m---------------------------------------------------------------------------\u001b[0m",
      "\u001b[0;31mNameError\u001b[0m                                 Traceback (most recent call last)",
      "\u001b[0;32m<ipython-input-10-23c4dd20556f>\u001b[0m in \u001b[0;36m<module>\u001b[0;34m()\u001b[0m\n\u001b[1;32m      2\u001b[0m \u001b[0mjob_name\u001b[0m \u001b[0;34m=\u001b[0m \u001b[0;34m\"haplo\"\u001b[0m\u001b[0;34m\u001b[0m\u001b[0m\n\u001b[1;32m      3\u001b[0m \u001b[0;34m\u001b[0m\u001b[0m\n\u001b[0;32m----> 4\u001b[0;31m \u001b[0mPipelineManager\u001b[0m\u001b[0;34m.\u001b[0m\u001b[0mcheck_status\u001b[0m\u001b[0;34m(\u001b[0m\u001b[0mssh_client\u001b[0m\u001b[0;34m,\u001b[0m \u001b[0mjob_name\u001b[0m\u001b[0;34m)\u001b[0m\u001b[0;34m\u001b[0m\u001b[0m\n\u001b[0m",
      "\u001b[0;32m/home/mustafa/ccbb/cirrus-ngs/src/cirrus_ngs/util/PipelineManager.py\u001b[0m in \u001b[0;36mcheck_status\u001b[0;34m(ssh_client, job_name)\u001b[0m\n\u001b[1;32m     34\u001b[0m     \u001b[0mprint\u001b[0m\u001b[0;34m(\u001b[0m\u001b[0;34m\"checking status of jobs...\"\u001b[0m\u001b[0;34m)\u001b[0m\u001b[0;34m\u001b[0m\u001b[0m\n\u001b[1;32m     35\u001b[0m     \u001b[0mqstat\u001b[0m \u001b[0;34m=\u001b[0m \u001b[0mConnectionManager\u001b[0m\u001b[0;34m.\u001b[0m\u001b[0mexecute_command\u001b[0m\u001b[0;34m(\u001b[0m\u001b[0mssh_client\u001b[0m\u001b[0;34m,\u001b[0m \u001b[0;34m\"qstat\"\u001b[0m\u001b[0;34m)\u001b[0m\u001b[0;34m\u001b[0m\u001b[0m\n\u001b[0;32m---> 36\u001b[0;31m     \u001b[0mlogs\u001b[0m \u001b[0;34m=\u001b[0m \u001b[0mConnectionManager\u001b[0m\u001b[0;34m.\u001b[0m\u001b[0mlist_dir\u001b[0m\u001b[0;34m(\u001b[0m\u001b[0mssh_client\u001b[0m\u001b[0;34m,\u001b[0m \u001b[0mlogs_dir\u001b[0m\u001b[0;34m)\u001b[0m\u001b[0;34m\u001b[0m\u001b[0m\n\u001b[0m\u001b[1;32m     37\u001b[0m     \u001b[0mQstatParser\u001b[0m\u001b[0;34m.\u001b[0m\u001b[0mparse_qstat\u001b[0m\u001b[0;34m(\u001b[0m\u001b[0mqstat\u001b[0m\u001b[0;34m,\u001b[0m \u001b[0mlogs\u001b[0m\u001b[0;34m,\u001b[0m \u001b[0mjob_name\u001b[0m\u001b[0;34m)\u001b[0m\u001b[0;34m\u001b[0m\u001b[0m\n",
      "\u001b[0;31mNameError\u001b[0m: name 'logs_dir' is not defined"
     ]
    }
   ],
   "source": [
    "#name of the job you want to check the status of \n",
    "job_name = \"haplo\"\n",
    "\n",
    "PipelineManager.check_status(ssh_client, job_name)"
   ]
  },
  {
   "cell_type": "raw",
   "metadata": {
    "collapsed": true
   },
   "source": []
  },
  {
   "cell_type": "code",
   "execution_count": null,
   "metadata": {
    "collapsed": true
   },
   "outputs": [],
   "source": []
  }
 ],
 "metadata": {
  "kernelspec": {
   "display_name": "Python 3",
   "language": "python",
   "name": "python3"
  },
  "language_info": {
   "codemirror_mode": {
    "name": "ipython",
    "version": 3
   },
   "file_extension": ".py",
   "mimetype": "text/x-python",
   "name": "python",
   "nbconvert_exporter": "python",
   "pygments_lexer": "ipython3",
   "version": "3.6.1"
  }
 },
 "nbformat": 4,
 "nbformat_minor": 1
}
