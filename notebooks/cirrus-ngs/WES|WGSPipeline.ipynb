{
 "cells": [
  {
   "cell_type": "markdown",
   "metadata": {},
   "source": [
    "# WES|WGSPipeline "
   ]
  },
  {
   "cell_type": "markdown",
   "metadata": {},
   "source": [
    "## 1. Configure AWS key pair, data location on S3 and the project information"
   ]
  },
  {
   "cell_type": "code",
   "execution_count": 1,
   "metadata": {},
   "outputs": [
    {
     "name": "stdout",
     "output_type": "stream",
     "text": [
      "variables set\n"
     ]
    }
   ],
   "source": [
    "import os\n",
    "import sys\n",
    "sys.path.append(\"../../src/cirrus_ngs\")\n",
    "from cfnCluster import CFNClusterManager, ConnectionManager\n",
    "from util import PipelineManager\n",
    "from util import DesignFileLoader\n",
    "\n",
    "#s3 address of input files and output files\n",
    "s3_input_files_address = \"s3://ucsd-ccbb-interns/Mustafa/wgs_test/Sample_cDNA/mouse_samples\"\n",
    "s3_output_files_address = \"s3://ucsd-ccbb-interns/Mustafa/wgs_test/Sample_cDNA/gatk_run\"\n",
    "\n",
    "## CFNCluster name\n",
    "your_cluster_name = \"mustafa7\"\n",
    "\n",
    "## The private key pair for accessing cluster.\n",
    "private_key = \"/home/mustafa/keys/interns_oregon_key.pem\"\n",
    "\n",
    "## Project information\n",
    "project_name = \"test_status\"\n",
    "\n",
    "#bwa_gatk or bwa_mutect\n",
    "workflow = \"bwa_mutect\"\n",
    "\n",
    "#hg19 or GRCm38\n",
    "genome = \"GRCm38\"\n",
    "\n",
    "## If delete cfncluster after job is done.\n",
    "delete_cfncluster= False\n",
    "\n",
    "## Possible analysis_steps inputs for the two workflows. Order of input does not matter.\n",
    "\n",
    "##bwa_gatk: \"fastqc\", \"trim\", \"align\", \"multiqc\",\"sort\", \"dedup\", \"split\", \"postalignment\", \n",
    "#\"haplotype\", \"merge\", \"combine_vcf\", \"filter\"\n",
    "\n",
    "##bwa_mutect: \"fastqc\", \"trim\" , \"align\", \"multiqc\", \"sort\", \"dedup\", \"split\", \"postalignment\",\n",
    "#\"somatic_variant_calling\", \"merge\"\n",
    "\n",
    "analysis_steps = {\n",
    "                    \"fastqc\"\n",
    "                    ,\"trim\"\n",
    "                    ,\"align\"\n",
    "#                     ,\"multiqc\"\n",
    "                    ,\"sort\"\n",
    "                    ,\"dedup\"\n",
    "                    ,\"split\"\n",
    "#                     ,\"postalignment\"\n",
    "#                     ,\"haplotype\"\n",
    "#                     ,\"mutect\"\n",
    "#                     ,\"merge\" \n",
    "#                     ,\"merge_vcf_pairwise\"\n",
    "#                     ,\"combine_vcf\"\n",
    "                    #\"filter\"\n",
    "                }\n",
    "\n",
    "#add design file path here\n",
    "#examples in cirrus_root/data/cirrus-ngs/\n",
    "design_file = \"/home/mustafa/ccbb/cirrus-ngs/data/cirrus-ngs/mouse_test.txt\"\n",
    "\n",
    "print(\"variables set\")"
   ]
  },
  {
   "cell_type": "markdown",
   "metadata": {},
   "source": [
    "## 2. Create CFNCluster"
   ]
  },
  {
   "cell_type": "code",
   "execution_count": 2,
   "metadata": {},
   "outputs": [
    {
     "name": "stdout",
     "output_type": "stream",
     "text": [
      "cluster mustafa7 does exist.\n",
      "warning: There is a newer version 1.4.2 of cfncluster available.\n",
      "Status: CREATE_COMPLETE\n",
      "Status: CREATE_COMPLETE\n",
      "MasterServer: RUNNING\n",
      "MasterServer: RUNNING\n",
      "Output:\"MasterPublicIP\"=\"34.214.180.149\"\n",
      "Output:\"MasterPrivateIP\"=\"172.31.33.31\"\n",
      "Output:\"GangliaPublicURL\"=\"http://34.214.180.149/ganglia/\"\n",
      "Output:\"GangliaPrivateURL\"=\"http://172.31.33.31/ganglia/\"\n",
      "\n",
      "connecting\n",
      "connected\n"
     ]
    }
   ],
   "source": [
    "## Create a new cluster\n",
    "master_ip_address = CFNClusterManager.create_cfn_cluster(cluster_name=your_cluster_name)\n",
    "ssh_client = ConnectionManager.connect_master(hostname=master_ip_address,\n",
    "               username=\"ec2-user\",\n",
    "               private_key_file=private_key)"
   ]
  },
  {
   "cell_type": "markdown",
   "metadata": {},
   "source": [
    "## 3. Run the pipeline"
   ]
  },
  {
   "cell_type": "code",
   "execution_count": 3,
   "metadata": {},
   "outputs": [
    {
     "name": "stdout",
     "output_type": "stream",
     "text": [
      "[['SRR2473232_1.fastq.gz', 'SRR2473232_2.fastq.gz'], ['SRR616274_1.fastq.gz', 'SRR616274_2.fastq.gz']]\n",
      "['groupA', 'groupA']\n",
      "{'SRR2473232_1': 'SRR616274_1'}\n",
      "making the yaml file...\n",
      "copying yaml file to remote master node...\n",
      "test_status.yaml\n",
      "/shared/workspace/Pipelines/yaml_files/DNASeq/bwa_mutect\n",
      "executing pipeline...\n"
     ]
    }
   ],
   "source": [
    "sample_list, group_list, pairs_list = DesignFileLoader.load_design_file(design_file)\n",
    "\n",
    "PipelineManager.execute(\"DNASeq\", ssh_client, project_name, workflow, analysis_steps, s3_input_files_address,\n",
    "                       sample_list, group_list, s3_output_files_address, genome, \"NA\", pairs_list)"
   ]
  },
  {
   "cell_type": "markdown",
   "metadata": {},
   "source": [
    "## 4. Check status of pipeline"
   ]
  },
  {
   "cell_type": "code",
   "execution_count": 14,
   "metadata": {
    "scrolled": true
   },
   "outputs": [
    {
     "name": "stdout",
     "output_type": "stream",
     "text": [
      "checking status of jobs...\n",
      "\n",
      "The fastqc step is being executed\n",
      "There are 2 instances of the fastqc step currently running\n",
      "\n",
      "The trim step has not started yet.\n",
      "\n",
      "The bwa step has not started yet.\n",
      "\n",
      "The sort step has not started yet.\n",
      "\n",
      "The dedup step has not started yet.\n",
      "\n",
      "The split step has not started yet.\n",
      "\n"
     ]
    }
   ],
   "source": [
    "step = \"all\" #can be any step in analysis_steps or \"all\"\n",
    "PipelineManager.check_status(ssh_client, step, \"DNASeq\", workflow, project_name, analysis_steps,verbose=False)"
   ]
  },
  {
   "cell_type": "code",
   "execution_count": null,
   "metadata": {
    "collapsed": true
   },
   "outputs": [],
   "source": []
  },
  {
   "cell_type": "code",
   "execution_count": null,
   "metadata": {
    "collapsed": true
   },
   "outputs": [],
   "source": []
  }
 ],
 "metadata": {
  "kernelspec": {
   "display_name": "Python 3",
   "language": "python",
   "name": "python3"
  },
  "language_info": {
   "codemirror_mode": {
    "name": "ipython",
    "version": 3
   },
   "file_extension": ".py",
   "mimetype": "text/x-python",
   "name": "python",
   "nbconvert_exporter": "python",
   "pygments_lexer": "ipython3",
   "version": "3.6.1"
  }
 },
 "nbformat": 4,
 "nbformat_minor": 1
}
