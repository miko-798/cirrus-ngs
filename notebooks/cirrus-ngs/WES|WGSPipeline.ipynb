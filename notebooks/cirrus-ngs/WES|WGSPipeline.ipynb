{
 "cells": [
  {
   "cell_type": "markdown",
   "metadata": {},
   "source": [
    "# WES|WGSPipeline "
   ]
  },
  {
   "cell_type": "code",
   "execution_count": null,
   "metadata": {
    "collapsed": true
   },
   "outputs": [],
   "source": [
    "import os\n",
    "import sys\n",
    "\n",
    "#s3 address of input files and output files\n",
    "s3_input_files_address = \"s3://path/to/input\"\n",
    "s3_output_files_address = \"s3://path/to/output\"\n",
    "\n",
    "## CFNCluster name\n",
    "your_cluster_name = \"\"\n",
    "\n",
    "## The private key pair for accessing cluster.\n",
    "private_key = \"/path/to/key.pem\"\n",
    "\n",
    "## Project information\n",
    "project_name = \"\"\n",
    "\n",
    "#bwa_gatk or bwa_mutect\n",
    "workflow = \"\"\n",
    "\n",
    "#hg19 or GRCm38\n",
    "genome = \"\"\n",
    "\n",
    "## If delete cfncluster after job is done.\n",
    "delete_cfncluster= False\n",
    "\n",
    "print(\"variables set\")"
   ]
  },
  {
   "cell_type": "code",
   "execution_count": null,
   "metadata": {
    "collapsed": true,
    "scrolled": true
   },
   "outputs": [],
   "source": [
    "sys.path.append(\"../../src/cirrus_ngs\")\n",
    "from cfnCluster import CFNClusterManager, ConnectionManager\n",
    "\n",
    "## Create a new cluster\n",
    "master_ip_address = CFNClusterManager.create_cfn_cluster(cluster_name=your_cluster_name)\n",
    "ssh_client = ConnectionManager.connect_master(hostname=master_ip_address,\n",
    "               username=\"ec2-user\",\n",
    "               private_key_file=private_key)"
   ]
  },
  {
   "cell_type": "code",
   "execution_count": null,
   "metadata": {
    "collapsed": true
   },
   "outputs": [],
   "source": [
    "from util import PipelineManager\n",
    "from util import DesignFileLoader\n",
    "\n",
    "## Possible analysis_steps inputs for the two workflows. Order of input does not matter.\n",
    "\n",
    "##bwa_gatk: \"fastqc\", \"trim\", \"bwa\", \"sort\", \"dedup\", \"split\", \"postalignment\", \n",
    "#\"haplotype\", \"merge\", \"combine_vcf\", \"filter\"\n",
    "\n",
    "##bwa_mutect: \"fastqc\", \"trim\" , \"bwa\", \"multiqc\", \"sort\", \"dedup\", \"split\", \"mutect\", \"bam_merge\", \"pair_vcf_merge\"\n",
    "analysis_steps = {\n",
    "                    #\"fastqc\"\n",
    "                    #,\"trim\"\n",
    "                    #,\"bwa\"\n",
    "                    #,\"multiqc\"\n",
    "                    #,\"sort\"\n",
    "                    #,\"dedup\"\n",
    "                    #,\"split\"\n",
    "                    #,\"postalignment\"\n",
    "                    #,\"haplotype\"\n",
    "                    #,\"mutect\"\n",
    "                    #,\"merge\" \n",
    "                    #,\"bam_merge\"\n",
    "                    #,\"pair_vcf_merge\"\n",
    "                    #,\"combine_vcf\"\n",
    "                    #\"filter\"\n",
    "                }\n",
    "\n",
    "#add design file path here\n",
    "#examples in cirrus_root/data/cirrus-ngs/\n",
    "design_file = \"/path/to/design_file.txt\"\n",
    "\n",
    "sample_list, group_list, pairs_list = DesignFileLoader.load_design_file(design_file)\n",
    "\n",
    "PipelineManager.execute(\"DNASeq\", ssh_client, project_name, workflow, analysis_steps, s3_input_files_address,\n",
    "                       sample_list, group_list, s3_output_files_address, genome, \"NA\", pairs_list)"
   ]
  }
 ],
 "metadata": {
  "kernelspec": {
   "display_name": "Python 3",
   "language": "python",
   "name": "python3"
  },
  "language_info": {
   "codemirror_mode": {
    "name": "ipython",
    "version": 3
   },
   "file_extension": ".py",
   "mimetype": "text/x-python",
   "name": "python",
   "nbconvert_exporter": "python",
   "pygments_lexer": "ipython3",
   "version": "3.6.1"
  }
 },
 "nbformat": 4,
 "nbformat_minor": 1
}
