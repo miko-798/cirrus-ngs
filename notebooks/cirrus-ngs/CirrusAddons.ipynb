{
 "cells": [
  {
   "cell_type": "code",
   "execution_count": null,
   "metadata": {},
   "outputs": [],
   "source": [
    "from pprint import pprint\n",
    "import os\n",
    "import sys\n",
    "\n",
    "#name of the cluster\n",
    "your_cluster_name = \"\"\n",
    "\n",
    "## The private key pair for accessing cluster.\n",
    "private_key = \"/path/to/key.pem\"\n",
    "\n",
    "## If delete cfncluster after job is done./\n",
    "delete_cfncluster= False\n",
    "\n",
    "print(\"variables set\")"
   ]
  },
  {
   "cell_type": "code",
   "execution_count": null,
   "metadata": {},
   "outputs": [],
   "source": [
    "sys.path.append(\"../../src/cirrus_ngs\")\n",
    "from cfnCluster import CFNClusterManager, ConnectionManager\n",
    "from util import AddonsManager\n",
    "\n",
    "## Create a new cluster\n",
    "master_ip_address = CFNClusterManager.create_cfn_cluster(cluster_name=your_cluster_name)\n",
    "ssh_client = ConnectionManager.connect_master(hostname=master_ip_address,\n",
    "               username=\"ec2-user\",\n",
    "               private_key_file=private_key)"
   ]
  },
  {
   "cell_type": "markdown",
   "metadata": {},
   "source": [
    "### Check Scripts on Cluster"
   ]
  },
  {
   "cell_type": "markdown",
   "metadata": {},
   "source": [
    "This section containss cells that can be used to check which scripts are currently on the cluster being used. "
   ]
  },
  {
   "cell_type": "markdown",
   "metadata": {},
   "source": [
    "#### Get all supported pipelines"
   ]
  },
  {
   "cell_type": "code",
   "execution_count": null,
   "metadata": {},
   "outputs": [],
   "source": [
    "#This cell must be run before others in this section\n",
    "\n",
    "scripts = AddonsManager.get_scripts_dict(ssh_client)\n",
    "print()\n",
    "print(\"Supported Pipelines:\", AddonsManager.get_all_pipeline_names(scripts))"
   ]
  },
  {
   "cell_type": "markdown",
   "metadata": {},
   "source": [
    "#### Check which workflows are in a given pipeline"
   ]
  },
  {
   "cell_type": "code",
   "execution_count": null,
   "metadata": {
    "scrolled": true
   },
   "outputs": [],
   "source": [
    "#can be set to a supported pipeline name or \"all\"\n",
    "target_pipeline = \"all\"\n",
    "\n",
    "print(\"Supported Workflows in {} Pipeline(s): \".format(target_pipeline), end=\"\")\n",
    "pprint(AddonsManager.get_workflows_in_pipeline(scripts, target_pipeline), indent=2)"
   ]
  },
  {
   "cell_type": "markdown",
   "metadata": {},
   "source": [
    "#### Check which shell scripts are in a given pipeline or workflow"
   ]
  },
  {
   "cell_type": "code",
   "execution_count": null,
   "metadata": {},
   "outputs": [],
   "source": [
    "#can be set to a supported pipeline or \"all\"\n",
    "target_pipeline = \"all\"\n",
    "\n",
    "#can be set to a support workflow or \"all\"\n",
    "#if target_pipeline == \"all\" then this variable is ignored\n",
    "target_workflow = \"all\"\n",
    "\n",
    "pprint(AddonsManager.get_scripts(scripts, target_pipeline, target_workflow))"
   ]
  },
  {
   "cell_type": "markdown",
   "metadata": {},
   "source": [
    "#### Check which step calls a script"
   ]
  },
  {
   "cell_type": "code",
   "execution_count": null,
   "metadata": {},
   "outputs": [],
   "source": [
    "#should be the name of a shell script on the cluster (include sh extension)\n",
    "target_script = \"\"\n",
    "\n",
    "print(AddonsManager.get_steps_calling_script(ssh_client, scripts, target_script))"
   ]
  },
  {
   "cell_type": "markdown",
   "metadata": {},
   "source": [
    "#### Print out a script"
   ]
  },
  {
   "cell_type": "code",
   "execution_count": null,
   "metadata": {},
   "outputs": [],
   "source": [
    "#all targets must be set to a valid pipeline/workflow/script\n",
    "#use cells above to check valid options\n",
    "target_pipeline = \"\"\n",
    "target_workflow = \"\"\n",
    "target_script = \"\"\n",
    "\n",
    "\n",
    "loc, file_cat = AddonsManager.cat_script(ssh_client, scripts, target_pipeline, target_workflow, target_script)\n",
    "print(\"\".join([\"#\"]*len(loc)) + \"\\n{}\\n\".format(loc) + \"\".join([\"#\"]*len(loc)))\n",
    "print()\n",
    "print(file_cat)"
   ]
  },
  {
   "cell_type": "markdown",
   "metadata": {},
   "source": [
    "### Check Software on Cluster"
   ]
  },
  {
   "cell_type": "markdown",
   "metadata": {},
   "source": [
    "This section is used to check what software is installed on the cluster."
   ]
  },
  {
   "cell_type": "markdown",
   "metadata": {},
   "source": [
    "#### Get all software installed on cluster"
   ]
  },
  {
   "cell_type": "code",
   "execution_count": null,
   "metadata": {},
   "outputs": [],
   "source": [
    "software = AddonsManager.get_software_dict(ssh_client)\n",
    "print(\"All Installed Software: \")\n",
    "pprint(software)"
   ]
  },
  {
   "cell_type": "markdown",
   "metadata": {},
   "source": [
    "#### Check the version of a specific tool"
   ]
  },
  {
   "cell_type": "code",
   "execution_count": null,
   "metadata": {},
   "outputs": [],
   "source": [
    "#ignores case\n",
    "target_tool = \"\"\n",
    "\n",
    "print(AddonsManager.check_tool_is_installed(software, target_tool))"
   ]
  },
  {
   "cell_type": "code",
   "execution_count": null,
   "metadata": {
    "collapsed": true
   },
   "outputs": [],
   "source": []
  },
  {
   "cell_type": "code",
   "execution_count": null,
   "metadata": {
    "collapsed": true
   },
   "outputs": [],
   "source": []
  }
 ],
 "metadata": {
  "kernelspec": {
   "display_name": "Python 3",
   "language": "python",
   "name": "python3"
  },
  "language_info": {
   "codemirror_mode": {
    "name": "ipython",
    "version": 3
   },
   "file_extension": ".py",
   "mimetype": "text/x-python",
   "name": "python",
   "nbconvert_exporter": "python",
   "pygments_lexer": "ipython3",
   "version": "3.6.1"
  }
 },
 "nbformat": 4,
 "nbformat_minor": 2
}
