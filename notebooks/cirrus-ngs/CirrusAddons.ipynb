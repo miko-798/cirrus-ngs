{
 "cells": [
  {
   "cell_type": "code",
   "execution_count": 25,
   "metadata": {},
   "outputs": [
    {
     "name": "stdout",
     "output_type": "stream",
     "text": [
      "variables set\n"
     ]
    }
   ],
   "source": [
    "import os\n",
    "import sys\n",
    "\n",
    "your_cluster_name = \"mustafa5\"\n",
    "\n",
    "## The private key pair for accessing cluster.\n",
    "private_key = \"/home/mustafa/interns_oregon_key.pem\"\n",
    "\n",
    "## If delete cfncluster after job is done.\n",
    "delete_cfncluster= False\n",
    "\n",
    "print(\"variables set\")"
   ]
  },
  {
   "cell_type": "code",
   "execution_count": 26,
   "metadata": {},
   "outputs": [
    {
     "name": "stdout",
     "output_type": "stream",
     "text": [
      "cluster mustafa5 does exist.\n",
      "\n",
      "Status: CREATE_COMPLETE\n",
      "Status: CREATE_COMPLETE\n",
      "MasterServer: RUNNING\n",
      "MasterServer: RUNNING\n",
      "Output:\"MasterPublicIP\"=\"52.43.127.225\"\n",
      "Output:\"MasterPrivateIP\"=\"172.31.27.132\"\n",
      "Output:\"GangliaPublicURL\"=\"http://52.43.127.225/ganglia/\"\n",
      "Output:\"GangliaPrivateURL\"=\"http://172.31.27.132/ganglia/\"\n",
      "\n",
      "connecting\n",
      "connected\n"
     ]
    }
   ],
   "source": [
    "sys.path.append(\"../../src/cirrus_ngs\")\n",
    "from cfnCluster import CFNClusterManager, ConnectionManager\n",
    "\n",
    "## Create a new cluster\n",
    "master_ip_address = CFNClusterManager.create_cfn_cluster(cluster_name=your_cluster_name)\n",
    "ssh_client = ConnectionManager.connect_master(hostname=master_ip_address,\n",
    "               username=\"ec2-user\",\n",
    "               private_key_file=private_key)"
   ]
  },
  {
   "cell_type": "code",
   "execution_count": 27,
   "metadata": {
    "scrolled": true
   },
   "outputs": [
    {
     "name": "stdout",
     "output_type": "stream",
     "text": [
      "Executing python /shared/workspace/Pipelines/util/GetScripts.py\n",
      "/shared/workspace/Pipelines/scripts:['fastqc.sh', 'multiqc.sh', 'trim.sh', 'run.sh']\n",
      "\tRNASeq:['merge_counts.sh', 'make_group.sh']\n",
      "\t\t{'star_htseq': ['ht_align.sh', 'ht_count.sh']}\n",
      "\t\t{'kallisto': ['k_align.sh']}\n",
      "\tChiPSeq:[]\n",
      "\t\t{'homer': ['pos2bed.sh', 'find_motifs_genome.sh', 'annotate_peaks.sh', 'make_tag_directory.sh', 'bowtie.sh', 'findpeaks.sh', 'make_UCSC_file.sh']}\n",
      "\tDNASeq:['merge.sh', 'split.sh', 'sort.sh', 'bwa.sh', 'post.sh', 'dedup.sh']\n",
      "\t\t{'bwa_gatk': ['haplo.sh', 'group_vcf.sh', 'filter.sh']}\n",
      "\t\t{'bwa_mutect': ['pair_merge.sh', 'mutect.sh']}\n",
      "\tSmallRNASeq:[]\n",
      "\t\t{'bowtie2': ['cutadapt.sh', 'bowtie2.sh', 'count.sh']}\n"
     ]
    }
   ],
   "source": [
    "from util import AddonsManager\n",
    "\n",
    "scripts = AddonsManager.get_scripts(ssh_client)\n",
    "AddonsManager.print_scripts(scripts)"
   ]
  },
  {
   "cell_type": "code",
   "execution_count": 30,
   "metadata": {},
   "outputs": [
    {
     "name": "stdout",
     "output_type": "stream",
     "text": [
      "scripts under the DNASeq bwa_gatk workflow: haplo.sh, group_vcf.sh, filter.sh\n"
     ]
    }
   ],
   "source": [
    "target_pipeline = \"DNASeq\"\n",
    "target_workflow = \"bwa_gatk\"\n",
    "\n",
    "AddonsManager.print_target_scripts(scripts, target_pipeline, target_workflow)"
   ]
  },
  {
   "cell_type": "code",
   "execution_count": null,
   "metadata": {
    "collapsed": true
   },
   "outputs": [],
   "source": []
  }
 ],
 "metadata": {
  "kernelspec": {
   "display_name": "Python 3",
   "language": "python",
   "name": "python3"
  },
  "language_info": {
   "codemirror_mode": {
    "name": "ipython",
    "version": 3
   },
   "file_extension": ".py",
   "mimetype": "text/x-python",
   "name": "python",
   "nbconvert_exporter": "python",
   "pygments_lexer": "ipython3",
   "version": "3.6.1"
  }
 },
 "nbformat": 4,
 "nbformat_minor": 2
}
