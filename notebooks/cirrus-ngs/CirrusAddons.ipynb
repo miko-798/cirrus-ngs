{
 "cells": [
  {
   "cell_type": "code",
   "execution_count": 12,
   "metadata": {},
   "outputs": [
    {
     "name": "stdout",
     "output_type": "stream",
     "text": [
      "variables set\n"
     ]
    }
   ],
   "source": [
    "from pprint import pprint\n",
    "import os\n",
    "import sys\n",
    "\n",
    "your_cluster_name = \"mustafa7\"\n",
    "\n",
    "## The private key pair for accessing cluster.\n",
    "private_key = \"/home/mustafa/interns_oregon_key.pem\"\n",
    "\n",
    "## If delete cfncluster after job is done./\n",
    "delete_cfncluster= False\n",
    "\n",
    "print(\"variables set\")"
   ]
  },
  {
   "cell_type": "code",
   "execution_count": 13,
   "metadata": {},
   "outputs": [
    {
     "name": "stdout",
     "output_type": "stream",
     "text": [
      "cluster mustafa7 does exist.\n",
      "\n",
      "Status: CREATE_COMPLETE\n",
      "Status: CREATE_COMPLETE\n",
      "MasterServer: RUNNING\n",
      "MasterServer: RUNNING\n",
      "Output:\"MasterPublicIP\"=\"34.214.180.149\"\n",
      "Output:\"MasterPrivateIP\"=\"172.31.33.31\"\n",
      "Output:\"GangliaPublicURL\"=\"http://34.214.180.149/ganglia/\"\n",
      "Output:\"GangliaPrivateURL\"=\"http://172.31.33.31/ganglia/\"\n",
      "\n",
      "connecting\n",
      "connected\n"
     ]
    }
   ],
   "source": [
    "sys.path.append(\"../../src/cirrus_ngs\")\n",
    "from cfnCluster import CFNClusterManager, ConnectionManager\n",
    "from util import AddonsManager\n",
    "\n",
    "## Create a new cluster\n",
    "master_ip_address = CFNClusterManager.create_cfn_cluster(cluster_name=your_cluster_name)\n",
    "ssh_client = ConnectionManager.connect_master(hostname=master_ip_address,\n",
    "               username=\"ec2-user\",\n",
    "               private_key_file=private_key)"
   ]
  },
  {
   "cell_type": "markdown",
   "metadata": {},
   "source": [
    "### Check Scripts on Cluster"
   ]
  },
  {
   "cell_type": "markdown",
   "metadata": {},
   "source": [
    "This section containss cells that can be used to check which scripts are currently on the cluster being used. "
   ]
  },
  {
   "cell_type": "markdown",
   "metadata": {},
   "source": [
    "#### Get all supported pipelines"
   ]
  },
  {
   "cell_type": "code",
   "execution_count": 14,
   "metadata": {},
   "outputs": [
    {
     "name": "stdout",
     "output_type": "stream",
     "text": [
      "Executing python /shared/workspace/Pipelines/util/GetScripts.py\n",
      "\n",
      "Supported Pipelines: ['RNASeq', 'ChiPSeq', 'DNASeq', 'SmallRNASeq']\n"
     ]
    }
   ],
   "source": [
    "#This cell must be run before others in this section\n",
    "\n",
    "scripts = AddonsManager.get_scripts_dict(ssh_client)\n",
    "print()\n",
    "print(\"Supported Pipelines:\", AddonsManager.get_all_pipeline_names(scripts))"
   ]
  },
  {
   "cell_type": "markdown",
   "metadata": {},
   "source": [
    "#### Check which workflows are in a given pipeline"
   ]
  },
  {
   "cell_type": "code",
   "execution_count": 16,
   "metadata": {
    "scrolled": true
   },
   "outputs": [
    {
     "name": "stdout",
     "output_type": "stream",
     "text": [
      "Supported Workflows in DNASeq Pipeline(s): ['bwa_gatk', 'bwa_mutect']\n"
     ]
    }
   ],
   "source": [
    "#can be set to a supported pipeline name or \"all\"\n",
    "target_pipeline = \"DNASeq\"\n",
    "\n",
    "print(\"Supported Workflows in {} Pipeline(s): \".format(target_pipeline), end=\"\")\n",
    "pprint(AddonsManager.get_workflows_in_pipeline(scripts, target_pipeline), indent=2)"
   ]
  },
  {
   "cell_type": "markdown",
   "metadata": {},
   "source": [
    "#### Check which shell scripts are in a given pipeline or workflow"
   ]
  },
  {
   "cell_type": "code",
   "execution_count": 19,
   "metadata": {},
   "outputs": [
    {
     "name": "stdout",
     "output_type": "stream",
     "text": [
      "{'All DNASeq Workflows': ['merge.sh',\n",
      "                          'split.sh',\n",
      "                          'sort.sh',\n",
      "                          'bwa.sh',\n",
      "                          'post.sh',\n",
      "                          'dedup.sh'],\n",
      " 'All Pipelines': ['fastqc.sh',\n",
      "                   'multiqc.sh',\n",
      "                   'trim.sh',\n",
      "                   'run.sh',\n",
      "                   'merge_counts.sh'],\n",
      " 'bwa_gatk': ['haplo.sh', 'group_vcf.sh', 'filter.sh']}\n"
     ]
    }
   ],
   "source": [
    "#can be set to a supported pipeline or \"all\"\n",
    "target_pipeline = \"DNASeq\"\n",
    "\n",
    "#can be set to a support workflow or \"all\"\n",
    "#if target_pipeline == \"all\" then this variable is ignored\n",
    "target_workflow = \"bwa_gatk\"\n",
    "\n",
    "pprint(AddonsManager.get_scripts(scripts, target_pipeline, target_workflow))"
   ]
  },
  {
   "cell_type": "markdown",
   "metadata": {},
   "source": [
    "#### Check which step calls a script"
   ]
  },
  {
   "cell_type": "code",
   "execution_count": 21,
   "metadata": {},
   "outputs": [
    {
     "name": "stdout",
     "output_type": "stream",
     "text": [
      "Executing cat /shared/workspace/Pipelines/config/tools.yaml\n",
      "fastqc.sh called from:\n",
      "fastqc in all Pipelines\n",
      "kallisto_fastqc in all Pipelines\n",
      "star_gatk_fastqc in all Pipelines\n",
      "star_htseq_fastqc in all Pipelines\n",
      "star_rsem_fastqc in all Pipelines\n",
      "\n"
     ]
    }
   ],
   "source": [
    "#should be the name of a shell script on the cluster (include sh extension)\n",
    "target_script = \"fastqc.sh\"\n",
    "\n",
    "print(AddonsManager.get_steps_calling_script(ssh_client, scripts, target_script))"
   ]
  },
  {
   "cell_type": "markdown",
   "metadata": {},
   "source": [
    "#### Print out a script"
   ]
  },
  {
   "cell_type": "code",
   "execution_count": 31,
   "metadata": {},
   "outputs": [
    {
     "name": "stdout",
     "output_type": "stream",
     "text": [
      "Executing cat /shared/workspace/Pipelines/scripts/ChiPSeq/homer/bowtie.sh\n",
      "#################\n",
      "Workflow Specific\n",
      "#################\n",
      "\n",
      "#!/bin/bash\n",
      "\n",
      "project_name=$1\n",
      "workflow=$2\n",
      "file_suffix=$3  #extension of input file, does not include .gz if present in input\n",
      "root_dir=$4\n",
      "fastq_end1=$5\n",
      "fastq_end2=$6\n",
      "input_address=$7    #this is an s3 address e.g. s3://path/to/input/directory\n",
      "output_address=$8   #this is an s3 address e.g. s3://path/to/output/directory\n",
      "log_dir=$9\n",
      "is_zipped=${10}    #either \"True\" or \"False\", indicates whether input is gzipped\n",
      "num_threads=${11}\n",
      "\n",
      "#logging\n",
      "log_dir=$log_dir/$fastq_end1\n",
      "mkdir -p $log_dir\n",
      "log_file=$log_dir/'bowtie.log'\n",
      "exec 1>>$log_file\n",
      "exec 2>>$log_file\n",
      "\n",
      "status_file=$log_dir/'status.log'\n",
      "touch $status_file\n",
      "\n",
      "#prepare output directories\n",
      "workspace=$root_dir/$project_name/$workflow/$fastq_end1\n",
      "mkdir -p $workspace\n",
      "\n",
      "echo \"%%%%%%%%%%%%%%%%%%%%%%%%%%%%%%%%%%%%\"\n",
      "date\n",
      "echo \"%%%%%%%%%%%%%%%%%%%%%%%%%%%%%%%%%%%%\"\n",
      "\n",
      "check_step_already_done $JOB_NAME $status_file\n",
      "\n",
      "\n",
      "##DOWNLOAD##\n",
      "if [ ! -f $workspace/$fastq_end1$file_suffix ]\n",
      "then\n",
      "    #this is the suffix of the input from s3\n",
      "    download_suffix=$file_suffix\n",
      "\n",
      "    #changes extension if S3 input is zipped\n",
      "    if [ \"$is_zipped\" == \"True\" ]\n",
      "    then\n",
      "        download_suffix=$file_suffix\".gz\"\n",
      "    fi\n",
      "\n",
      "    #always download forward reads\n",
      "    aws s3 cp $input_address/$fastq_end1$download_suffix $workspace/\n",
      "    gunzip -q $workspace/$fastq_end1$download_suffix\n",
      "\n",
      "    #download reverse reads if they exist\n",
      "    if [ \"$fastq_end2\" != \"NULL\" ]\n",
      "    then\n",
      "        aws s3 cp $input_address/$fastq_end2$download_suffix $workspace/\n",
      "        gunzip -q $workspace/$fastq_end2$download_suffix\n",
      "    fi\n",
      "fi\n",
      "##END_DOWNLOAD##\n",
      "\n",
      "\n",
      "##ALIGN##\n",
      "if [ \"$fastq_end2\" == \"NULL\" ]\n",
      "then\n",
      "    check_exit_status \"$bowtie -S -p $num_threads $bowtie_index $workspace/$fastq_end1$file_suffix > $workspace/$fastq_end1.sam\" $JOB_NAME $status_file\n",
      "else\n",
      "    check_exit_status \"$bowtie -S -p $num_threads --chunkmbs 400 $bowtie_index -1 $workspace/$fastq_end1$file_suffix \\\n",
      "        -2 $workspace/$fastq_end2$file_suffix > $workspace/$fastq_end1.sam\" $JOB_NAME $status_file\n",
      "fi\n",
      "\n",
      "check_exit_status \"$samtools stats $workspace/$fastq_end1.sam > $workspace/$fastq_end1.stats.txt\" $JOB_NAME $status_file\n",
      "##END_ALIGN##\n",
      "\n",
      "\n",
      "##UPLOAD##\n",
      "aws s3 cp $workspace $output_address/ --exclude \"*\" --include \"$fastq_end1.sam\" --include \"$fastq_end1.stats.txt\" --recursive\n",
      "##END_UPLOAD##\n",
      "\n"
     ]
    }
   ],
   "source": [
    "#all targets must be set to a valid pipeline/workflow/script\n",
    "#use cells above to check valid options\n",
    "target_pipeline = \"ChiPSeq\"\n",
    "target_workflow = \"homer\"\n",
    "target_script = \"bowtie.sh\"\n",
    "\n",
    "\n",
    "loc, file_cat = AddonsManager.cat_script(ssh_client, scripts, target_pipeline, target_workflow, target_script)\n",
    "print(\"\".join([\"#\"]*len(loc)) + \"\\n{}\\n\".format(loc) + \"\".join([\"#\"]*len(loc)))\n",
    "print()\n",
    "print(file_cat)"
   ]
  },
  {
   "cell_type": "markdown",
   "metadata": {},
   "source": [
    "### Check Software on Cluster"
   ]
  },
  {
   "cell_type": "markdown",
   "metadata": {},
   "source": [
    "This section is used to check what software is installed on the cluster."
   ]
  },
  {
   "cell_type": "markdown",
   "metadata": {},
   "source": [
    "#### Get all software installed on cluster"
   ]
  },
  {
   "cell_type": "code",
   "execution_count": 25,
   "metadata": {},
   "outputs": [
    {
     "name": "stdout",
     "output_type": "stream",
     "text": [
      "Executing python /shared/workspace/Pipelines/util/GetSoftware.py\n",
      "All Installed Software: \n",
      "{'FastQC': ['0.11.3'],\n",
      " 'HTSeq': ['0.9.1 (installed with pip)'],\n",
      " 'MultiQC': ['1.3 (installed with conda)'],\n",
      " 'RSEM': ['1.3.0'],\n",
      " 'STAR': ['2.3.0e', '2.5.1a', '2.5.3a'],\n",
      " 'Trimmomatic': ['0.36'],\n",
      " 'bedtools2': ['2.19.1'],\n",
      " 'blat': ['36x1'],\n",
      " 'bowtie': ['1.0.1'],\n",
      " 'bowtie2': ['2.3.2-legacy'],\n",
      " 'bwa': ['0.7.12-r1039'],\n",
      " 'cutadapt': ['1.14 (installed with conda)'],\n",
      " 'gatk': ['3.8-0'],\n",
      " 'ghostscript': ['9.19'],\n",
      " 'homer': ['4.8.3'],\n",
      " 'java': ['jre1.8.0_144'],\n",
      " 'kallisto': ['0.43.1'],\n",
      " 'picard': ['1.96'],\n",
      " 'sambamba': ['0.4.7'],\n",
      " 'samblaster': ['0.1.21'],\n",
      " 'samtools': ['1.1'],\n",
      " 'tabix': ['0.2.6'],\n",
      " 'vcftools': ['0.1.12b'],\n",
      " 'weblogo': ['2.8']}\n"
     ]
    }
   ],
   "source": [
    "software = AddonsManager.get_software_dict(ssh_client)\n",
    "print(\"All Installed Software: \")\n",
    "pprint(software)"
   ]
  },
  {
   "cell_type": "markdown",
   "metadata": {},
   "source": [
    "#### Check the version of a specific tool"
   ]
  },
  {
   "cell_type": "code",
   "execution_count": 28,
   "metadata": {},
   "outputs": [
    {
     "name": "stdout",
     "output_type": "stream",
     "text": [
      "HTSeq installed with version(s):\n",
      "0.9.1 (installed with pip)\n"
     ]
    }
   ],
   "source": [
    "#ignores case\n",
    "target_tool = \"htseq\"\n",
    "\n",
    "print(AddonsManager.check_tool_is_installed(software, target_tool))"
   ]
  },
  {
   "cell_type": "code",
   "execution_count": null,
   "metadata": {
    "collapsed": true
   },
   "outputs": [],
   "source": []
  },
  {
   "cell_type": "code",
   "execution_count": null,
   "metadata": {
    "collapsed": true
   },
   "outputs": [],
   "source": []
  }
 ],
 "metadata": {
  "kernelspec": {
   "display_name": "Python 3",
   "language": "python",
   "name": "python3"
  },
  "language_info": {
   "codemirror_mode": {
    "name": "ipython",
    "version": 3
   },
   "file_extension": ".py",
   "mimetype": "text/x-python",
   "name": "python",
   "nbconvert_exporter": "python",
   "pygments_lexer": "ipython3",
   "version": "3.6.1"
  }
 },
 "nbformat": 4,
 "nbformat_minor": 2
}
