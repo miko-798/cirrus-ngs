{
 "cells": [
  {
   "cell_type": "code",
   "execution_count": 1,
   "metadata": {},
   "outputs": [
    {
     "name": "stdout",
     "output_type": "stream",
     "text": [
      "variables set\n"
     ]
    }
   ],
   "source": [
    "from pprint import pprint\n",
    "import os\n",
    "import sys\n",
    "\n",
    "your_cluster_name = \"mustafa5\"\n",
    "\n",
    "## The private key pair for accessing cluster.\n",
    "private_key = \"/home/mustafa/interns_oregon_key.pem\"\n",
    "\n",
    "## If delete cfncluster after job is done./\n",
    "delete_cfncluster= False\n",
    "\n",
    "print(\"variables set\")"
   ]
  },
  {
   "cell_type": "code",
   "execution_count": 2,
   "metadata": {},
   "outputs": [
    {
     "name": "stdout",
     "output_type": "stream",
     "text": [
      "cluster mustafa5 does exist.\n",
      "\n",
      "Status: CREATE_COMPLETE\n",
      "Status: CREATE_COMPLETE\n",
      "MasterServer: RUNNING\n",
      "MasterServer: RUNNING\n",
      "Output:\"MasterPublicIP\"=\"52.43.127.225\"\n",
      "Output:\"MasterPrivateIP\"=\"172.31.27.132\"\n",
      "Output:\"GangliaPublicURL\"=\"http://52.43.127.225/ganglia/\"\n",
      "Output:\"GangliaPrivateURL\"=\"http://172.31.27.132/ganglia/\"\n",
      "\n",
      "connecting\n",
      "connected\n"
     ]
    }
   ],
   "source": [
    "sys.path.append(\"../../src/cirrus_ngs\")\n",
    "from cfnCluster import CFNClusterManager, ConnectionManager\n",
    "from util import AddonsManager\n",
    "\n",
    "## Create a new cluster\n",
    "master_ip_address = CFNClusterManager.create_cfn_cluster(cluster_name=your_cluster_name)\n",
    "ssh_client = ConnectionManager.connect_master(hostname=master_ip_address,\n",
    "               username=\"ec2-user\",\n",
    "               private_key_file=private_key)"
   ]
  },
  {
   "cell_type": "markdown",
   "metadata": {},
   "source": [
    "### Check Scripts on Cluster"
   ]
  },
  {
   "cell_type": "code",
   "execution_count": 3,
   "metadata": {},
   "outputs": [
    {
     "name": "stdout",
     "output_type": "stream",
     "text": [
      "Executing python /shared/workspace/Pipelines/util/GetScripts.py\n",
      "\n",
      "Supported Pipelines: ['RNASeq', 'ChiPSeq', 'DNASeq', 'SmallRNASeq']\n"
     ]
    }
   ],
   "source": [
    "scripts = AddonsManager.get_scripts_dict(ssh_client)\n",
    "print()\n",
    "print(\"Supported Pipelines:\", AddonsManager.get_all_pipeline_names(scripts))"
   ]
  },
  {
   "cell_type": "code",
   "execution_count": 4,
   "metadata": {
    "scrolled": true
   },
   "outputs": [
    {
     "name": "stdout",
     "output_type": "stream",
     "text": [
      "Supported Workflows in DNASeq Pipeline(s): ['bwa_gatk', 'bwa_mutect']\n"
     ]
    }
   ],
   "source": [
    "##Check which workflows are in a given pipeline##\n",
    "\n",
    "#can be set to a supported pipeline name or \"all\"\n",
    "target_pipeline = \"DNASeq\"\n",
    "\n",
    "print(\"Supported Workflows in {} Pipeline(s): \".format(target_pipeline), end=\"\")\n",
    "pprint(AddonsManager.get_workflows_in_pipeline(scripts, target_pipeline), indent=2)"
   ]
  },
  {
   "cell_type": "code",
   "execution_count": 5,
   "metadata": {},
   "outputs": [
    {
     "name": "stdout",
     "output_type": "stream",
     "text": [
      "{'All Pipelines': ['fastqc.sh', 'multiqc.sh', 'trim.sh', 'run.sh'],\n",
      " 'All Workflows': ['merge.sh',\n",
      "                   'split.sh',\n",
      "                   'sort.sh',\n",
      "                   'bwa.sh',\n",
      "                   'post.sh',\n",
      "                   'dedup.sh'],\n",
      " 'bwa_gatk': ['haplo.sh', 'group_vcf.sh', 'filter.sh'],\n",
      " 'bwa_mutect': ['pair_merge.sh', 'mutect.sh']}\n"
     ]
    }
   ],
   "source": [
    "#can be set to a supported pipeline or \"all\"\n",
    "target_pipeline = \"DNASeq\"\n",
    "\n",
    "#can be set to a support workflow or \"all\"\n",
    "target_workflow = \"all\"\n",
    "\n",
    "pprint(AddonsManager.get_scripts(scripts, target_pipeline, target_workflow))"
   ]
  },
  {
   "cell_type": "code",
   "execution_count": 6,
   "metadata": {},
   "outputs": [
    {
     "name": "stdout",
     "output_type": "stream",
     "text": [
      "Executing cat /shared/workspace/Pipelines/config/tools.yaml\n",
      "merge.sh called from:\n",
      "merge in all Workflows in DNASeq\n",
      "bam_merge in all Workflows in DNASeq\n",
      "\n"
     ]
    }
   ],
   "source": [
    "##Find what steps call a script##\n",
    "print(AddonsManager.get_steps_calling_script(ssh_client, scripts, \"merge.sh\"))"
   ]
  },
  {
   "cell_type": "code",
   "execution_count": 10,
   "metadata": {},
   "outputs": [
    {
     "name": "stdout",
     "output_type": "stream",
     "text": [
      "Executing cat /shared/workspace/Pipelines/scripts/DNASeq/bwa_mutect/mutect.sh\n",
      "Workflow Specific\n",
      "\n",
      "#!/bin/bash\n",
      "\n",
      "project_name=$1\n",
      "workflow=$2\n",
      "file_suffix=$3  #extension of input file, does not include .gz if present in input\n",
      "root_dir=$4\n",
      "normal_sample=$5\n",
      "tumor_sample=$6\n",
      "input_address=$7    #this is an s3 address e.g. s3://path/to/input/directory\n",
      "output_address=$8   #this is an s3 address e.g. s3://path/to/output/directory\n",
      "log_dir=$9\n",
      "is_zipped=${10}    #either \"True\" or \"False\", indicates whether input is gzipped\n",
      "num_threads=${11}\n",
      "chromosome=${12}\n",
      "##TUMOR VS NORMAL\n",
      "\n",
      "\n",
      "#logging\n",
      "log_dir=$log_dir/$normal_sample\n",
      "mkdir -p $log_dir\n",
      "log_file=$log_dir/\"mutect.$chromosome.log\"\n",
      "exec 1>>$log_file\n",
      "exec 2>>$log_file\n",
      "\n",
      "status_file=$log_dir/'status.log'\n",
      "touch $status_file\n",
      "\n",
      "#prepare output directories\n",
      "workspace=$root_dir/$project_name/$workflow/$normal_sample\n",
      "mkdir -p $workspace\n",
      "mkdir -p $workspace/temp\n",
      "\n",
      "echo \"%%%%%%%%%%%%%%%%%%%%%%%%%%%%%%%%%%%%\"\n",
      "date\n",
      "echo \"%%%%%%%%%%%%%%%%%%%%%%%%%%%%%%%%%%%%\"\n",
      "\n",
      "check_step_already_done $JOB_NAME\"_$chromosome\" $status_file\n",
      "\n",
      "##DOWNLOAD##\n",
      "if [ ! -f $workspace/$normal_sample$file_suffix ] || [ ! -f $workspace/$normal_sample$file_suffix.bai ] \\\n",
      "    || [ ! -f $workspace/$tumor_sample$file_suffix ] || [ ! -f $workspace/$tumor_sample$file_suffix.bai ]\n",
      "then\n",
      "    #this is the suffix of the input from s3\n",
      "    download_suffix=$file_suffix\n",
      "\n",
      "    #changes extension if S3 input is zipped\n",
      "    if [ \"$is_zipped\" == \"True\" ]\n",
      "    then\n",
      "        download_suffix=$file_suffix\".gz\"\n",
      "    fi\n",
      "\n",
      "    aws s3 cp $input_address/$normal_sample/$normal_sample$download_suffix $workspace/\n",
      "    aws s3 cp $input_address/$normal_sample/$normal_sample$download_suffix.bai $workspace/\n",
      "    gunzip -q $workspace/$normal_sample$download_suffix\n",
      "\n",
      "    aws s3 cp $input_address/$tumor_sample/$tumor_sample$download_suffix $workspace/\n",
      "    aws s3 cp $input_address/$tumor_sample/$tumor_sample$download_suffix.bai $workspace/\n",
      "    gunzip -q $workspace/$tumor_sample$download_suffix\n",
      "\n",
      "    #always download forward reads\n",
      "fi\n",
      "##END_DOWNLOAD##\n",
      "\n",
      "##MUTECT##\n",
      "\n",
      "if [ -z $cosmic ]\n",
      "then\n",
      "    references=\"--dbsnp $dbsnp\"\n",
      "else\n",
      "    references=\"--dbsnp $dbsnp --cosmic $cosmic\"\n",
      "fi\n",
      "\n",
      "check_exit_status \"$java -Djava.io.tmpdir=$workspace/temp -Xmx4g -jar $gatk \\\n",
      "    -T MuTect2 \\\n",
      "    -nct $num_threads \\\n",
      "    -R $genome_fasta \\\n",
      "    -I:normal $workspace/$normal_sample$file_suffix \\\n",
      "    -I:tumor $workspace/$tumor_sample$file_suffix \\\n",
      "     $references \\\n",
      "    -L $chromosome \\\n",
      "    -o $workspace/$tumor_sample'_vs_'$normal_sample.$chromosome.vcf\" $JOB_NAME\"_$chromosome\" $status_file\n",
      "##END_MUTECT##\n",
      "\n",
      "\n",
      "##UPLOAD##\n",
      "out_file=$tumor_sample'_vs_'$normal_sample.$chromosome.vcf\n",
      "aws s3 cp $workspace $output_address --exclude \"*\" --include \"$out_file\" --recursive\n",
      "##END_UPLOAD##\n",
      "\n"
     ]
    }
   ],
   "source": [
    "##Print out a script##\n",
    "\n",
    "#all targets must be set to a valid pipeline/workflow/script\n",
    "#use cells above to check valid options\n",
    "target_pipeline = \"DNASeq\"\n",
    "target_workflow = \"bwa_mutect\"\n",
    "target_script = \"mutect.sh\"\n",
    "\n",
    "\n",
    "loc, file_cat = AddonsManager.cat_script(ssh_client, scripts, target_pipeline, target_workflow, target_script)\n",
    "print(loc)\n",
    "print()\n",
    "print(file_cat)"
   ]
  },
  {
   "cell_type": "markdown",
   "metadata": {},
   "source": [
    "### Check Software on Cluster"
   ]
  },
  {
   "cell_type": "code",
   "execution_count": 11,
   "metadata": {},
   "outputs": [
    {
     "name": "stdout",
     "output_type": "stream",
     "text": [
      "Executing python /shared/workspace/Pipelines/util/GetSoftware.py\n",
      "All Installed Software: \n",
      "{'FastQC': ['0.11.3'],\n",
      " 'HTSeq': ['0.9.1 (installed with pip)'],\n",
      " 'RSEM': ['1.3.0'],\n",
      " 'STAR': ['2.3.0e', '2.5.1a', '2.5.3a'],\n",
      " 'Trimmomatic': ['0.36'],\n",
      " 'bedtools2': ['2.19.1'],\n",
      " 'blat': ['36x1'],\n",
      " 'bowtie': ['1.0.1'],\n",
      " 'bowtie2': ['2.3.2-legacy'],\n",
      " 'bwa': ['0.7.12-r1039'],\n",
      " 'cutadapt': ['1.14 (installed with conda)'],\n",
      " 'gatk': ['3.8-0'],\n",
      " 'homer': ['4.8.3'],\n",
      " 'java': ['jre1.8.0_144'],\n",
      " 'kallisto': ['0.43.1'],\n",
      " 'multiqc': ['1.3 (installed with pip)'],\n",
      " 'picard': ['1.96'],\n",
      " 'sambamba': ['0.4.7'],\n",
      " 'samblaster': ['0.1.21'],\n",
      " 'samtools': ['1.1'],\n",
      " 'tabix': ['0.2.6'],\n",
      " 'vcftools': ['0.1.12b'],\n",
      " 'weblogo': ['2.8']}\n"
     ]
    }
   ],
   "source": [
    "software = AddonsManager.get_software_dict(ssh_client)\n",
    "print(\"All Installed Software: \")\n",
    "pprint(software)"
   ]
  },
  {
   "cell_type": "code",
   "execution_count": 16,
   "metadata": {},
   "outputs": [
    {
     "name": "stdout",
     "output_type": "stream",
     "text": [
      "samtools installed with version(s):\n",
      "1.1\n"
     ]
    }
   ],
   "source": [
    "# check for a specific tool\n",
    "target_tool = \"samtools\"\n",
    "print(AddonsManager.check_tool_is_installed(software, target_tool))"
   ]
  },
  {
   "cell_type": "code",
   "execution_count": null,
   "metadata": {
    "collapsed": true
   },
   "outputs": [],
   "source": []
  },
  {
   "cell_type": "code",
   "execution_count": null,
   "metadata": {
    "collapsed": true
   },
   "outputs": [],
   "source": []
  }
 ],
 "metadata": {
  "kernelspec": {
   "display_name": "Python 3",
   "language": "python",
   "name": "python3"
  },
  "language_info": {
   "codemirror_mode": {
    "name": "ipython",
    "version": 3
   },
   "file_extension": ".py",
   "mimetype": "text/x-python",
   "name": "python",
   "nbconvert_exporter": "python",
   "pygments_lexer": "ipython3",
   "version": "3.6.1"
  }
 },
 "nbformat": 4,
 "nbformat_minor": 2
}
