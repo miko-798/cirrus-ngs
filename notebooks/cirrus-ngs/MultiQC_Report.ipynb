{
 "cells": [
  {
   "cell_type": "markdown",
   "metadata": {},
   "source": [
    "# Pre-alignment Quality Control:  FastQC & MultiQC"
   ]
  },
  {
   "cell_type": "markdown",
   "metadata": {},
   "source": [
    "Notice: Please open the notebook under /notebooks/awsCluster/BasicCFNClusterSetup.ipynb to install CFNCluster package on your Jupyter-notebook server before running the notebook."
   ]
  },
  {
   "cell_type": "markdown",
   "metadata": {},
   "source": [
    "# Set-up"
   ]
  },
  {
   "cell_type": "markdown",
   "metadata": {},
   "source": [
    "## 1. Configure AWS key pair, data location on S3 and the project information"
   ]
  },
  {
   "cell_type": "code",
   "execution_count": 1,
   "metadata": {},
   "outputs": [
    {
     "name": "stdout",
     "output_type": "stream",
     "text": [
      "Variables set.\n"
     ]
    }
   ],
   "source": [
    "import os\n",
    "import sys\n",
    "\n",
    "## S3 input and output address.\n",
    "s3_input_files_address = \"s3://path/to/s3_input_files_address\"\n",
    "s3_output_files_address = \"s3://path/to/s3_output_files_address\"\n",
    "\n",
    "## CFNCluster name\n",
    "your_cluster_name = \"cluster_name\"\n",
    "\n",
    "## The private key pair for accessing cluster.\n",
    "private_key = \"/path/to/aws_private_key.pem\"\n",
    "\n",
    "## Project information\n",
    "project_name = \"multiqc_project\"\n",
    "\n",
    "pipeline = \"MultiQC\" \n",
    "\n",
    "## delete cfncluster after job is done.\n",
    "delete_cfncluster = False\n",
    "\n",
    "print(\"Variables set.\")"
   ]
  },
  {
   "cell_type": "markdown",
   "metadata": {},
   "source": [
    "## 2. Create CFNCluster"
   ]
  },
  {
   "cell_type": "markdown",
   "metadata": {},
   "source": [
    "Notice: The CFNCluster package can be only installed on Linux box which supports pip installation."
   ]
  },
  {
   "cell_type": "code",
   "execution_count": 2,
   "metadata": {},
   "outputs": [
    {
     "name": "stdout",
     "output_type": "stream",
     "text": [
      "cluster mengyi does exist.\n",
      "\n",
      "Status: CREATE_COMPLETE\n",
      "Status: CREATE_COMPLETE\n",
      "MasterServer: RUNNING\n",
      "MasterServer: RUNNING\n",
      "Output:\"MasterPublicIP\"=\"34.211.92.174\"\n",
      "Output:\"MasterPrivateIP\"=\"172.31.28.72\"\n",
      "Output:\"GangliaPublicURL\"=\"http://34.211.92.174/ganglia/\"\n",
      "Output:\"GangliaPrivateURL\"=\"http://172.31.28.72/ganglia/\"\n",
      "\n",
      "connecting\n",
      "connected\n"
     ]
    }
   ],
   "source": [
    "sys.path.append(\"../../src/cirrus_ngs\")\n",
    "from cfnCluster import CFNClusterManager, ConnectionManager\n",
    "## Create a new cluster\n",
    "master_ip_address = CFNClusterManager.create_cfn_cluster(cluster_name=your_cluster_name)\n",
    "ssh_client = ConnectionManager.connect_master(hostname=master_ip_address,\n",
    "                                              username=\"ec2-user\",\n",
    "                                              private_key_file=private_key)"
   ]
  },
  {
   "cell_type": "markdown",
   "metadata": {},
   "source": [
    "# Run FastQC & MultiQC Analysis"
   ]
  },
  {
   "cell_type": "code",
   "execution_count": 3,
   "metadata": {},
   "outputs": [
    {
     "name": "stdout",
     "output_type": "stream",
     "text": [
      "[['AD2-WK4_GTAGAG_S16_L001_R1_001.fastq.gz']]\n",
      "['groupA']\n",
      "making the yaml file...\n",
      "copying yaml file to remote master node...\n",
      "multiqc_project.yaml\n",
      "/shared/workspace/Pipelines/yaml_examples\n",
      "executing pipeline...\n",
      "Executing qsub /shared/workspace/Pipelines/scripts/run.sh /shared/workspace/Pipelines/yaml_examples/multiqc_project.yaml /shared/workspace/logs/MultiQC PrimaryQcPipeline.py\n"
     ]
    }
   ],
   "source": [
    "from util import QCPipelineManager\n",
    "from util import DesignFileLoader\n",
    "\n",
    "# typically, always \"fastqc\", \"multiqc\"\n",
    "analysis_steps = [\"fastqc\", \"multiqc\"]\n",
    "\n",
    "design_file = \"/path/to/design_file.txt\"\n",
    "sample_list, group_list = DesignFileLoader.load_design_file(design_file)\n",
    "\n",
    "QCPipelineManager.execute(pipeline, ssh_client, project_name, analysis_steps, s3_input_files_address,\n",
    "        sample_list, group_list, s3_output_files_address)"
   ]
  },
  {
   "cell_type": "code",
   "execution_count": null,
   "metadata": {
    "collapsed": true
   },
   "outputs": [],
   "source": [
    "\n",
    "# TODO: display multiqc report\n",
    "\n",
    "from IPython.display import IFrame\n",
    "    # run_multiqc returns the path to html file\n",
    "    IFrame(run_multiqc(g_fastqc_output_dir), width=\"100%\", height=900)"
   ]
  },
  {
   "cell_type": "code",
   "execution_count": null,
   "metadata": {
    "collapsed": true
   },
   "outputs": [],
   "source": []
  },
  {
   "cell_type": "code",
   "execution_count": null,
   "metadata": {
    "collapsed": true
   },
   "outputs": [],
   "source": []
  },
  {
   "cell_type": "code",
   "execution_count": null,
   "metadata": {
    "collapsed": true
   },
   "outputs": [],
   "source": []
  }
 ],
 "metadata": {
  "kernelspec": {
   "display_name": "Python 3",
   "language": "python",
   "name": "python3"
  },
  "language_info": {
   "codemirror_mode": {
    "name": "ipython",
    "version": 3
   },
   "file_extension": ".py",
   "mimetype": "text/x-python",
   "name": "python",
   "nbconvert_exporter": "python",
   "pygments_lexer": "ipython3",
   "version": "3.6.0"
  }
 },
 "nbformat": 4,
 "nbformat_minor": 2
}
